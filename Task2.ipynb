{
 "cells": [
  {
   "cell_type": "markdown",
   "metadata": {},
   "source": [
    "# 1Predicting sales data using Spark Streaming"
   ]
  },
  {
   "cell_type": "markdown",
   "metadata": {},
   "source": [
    "### 2.1 Create SparkSession\n"
   ]
  },
  {
   "cell_type": "code",
   "execution_count": 1,
   "metadata": {
    "scrolled": true
   },
   "outputs": [],
   "source": [
    "import os\n",
    "os.environ['PYSPARK_SUBMIT_ARGS'] = '--packages org.apache.spark:spark-streaming-kafka-0-10_2.12:3.3.0,org.apache.spark:spark-sql-kafka-0-10_2.12:3.3.0 pyspark-shell'\n",
    "\n",
    "#os.mkdir(\"CheckPoint\")\n",
    "\n",
    "from pyspark import SparkConf\n",
    "from pyspark.sql import SparkSession\n",
    "from pyspark.sql.functions import explode\n",
    "from pyspark.sql.functions import split\n",
    "from pyspark.sql import functions as F\n",
    "from pyspark.sql.types import *\n",
    "\n",
    "conf = SparkConf() \\\n",
    "        .setAppName(\"Sales Prediction\") \\\n",
    "        .setMaster(\"local[4]\")\n",
    "\n",
    "spark = SparkSession.builder.config(conf=conf).getOrCreate()\n",
    "sc = spark.sparkContext\n",
    "sc.setCheckpointDir(\"CheckPoint\") \n",
    "sc.setLogLevel('ERROR')"
   ]
  },
  {
   "cell_type": "markdown",
   "metadata": {},
   "source": [
    "### 2.2 Define schema and load file\n",
    "\n"
   ]
  },
  {
   "cell_type": "code",
   "execution_count": 2,
   "metadata": {},
   "outputs": [
    {
     "name": "stdout",
     "output_type": "stream",
     "text": [
      "root\n",
      " |-- Store: integer (nullable = true)\n",
      " |-- Type: string (nullable = true)\n",
      " |-- Size: integer (nullable = true)\n",
      "\n"
     ]
    }
   ],
   "source": [
    "from pyspark.sql.types import StructType,StructField, StringType, IntegerType, DoubleType, DateType, BooleanType, TimestampType\n",
    "store_schema = StructType([    \n",
    "    StructField('Store', IntegerType(), True), \n",
    "    StructField('Type', StringType(), True),\n",
    "    StructField('Size', IntegerType(), True)            \n",
    "])\n",
    "\n",
    "df_stores = spark.read.format(\"csv\") \\\n",
    "      .option(\"header\", True) \\\n",
    "      .schema(store_schema) \\\n",
    "      .load(\"stores.csv\")\n",
    "\n",
    "df_stores.printSchema()"
   ]
  },
  {
   "cell_type": "markdown",
   "metadata": {},
   "source": [
    "### 2.3 Injest Kafka data\n",
    "\n",
    "\n"
   ]
  },
  {
   "cell_type": "code",
   "execution_count": 3,
   "metadata": {},
   "outputs": [],
   "source": [
    "#configuration\n",
    "hostip = \"192.168.1.101\" \n",
    "\n",
    "topic = \"salesPrediction\" # setting same topic used in kafka producer\n",
    "\n",
    "df = spark \\\n",
    "    .readStream \\\n",
    "    .format(\"kafka\") \\\n",
    "    .option(\"kafka.bootstrap.servers\", f'{hostip}:9092') \\\n",
    "    .option(\"subscribe\", topic) \\\n",
    "    .load()"
   ]
  },
  {
   "cell_type": "markdown",
   "metadata": {},
   "source": [
    "### 2.4 Persist raw data\n"
   ]
  },
  {
   "cell_type": "code",
   "execution_count": 4,
   "metadata": {},
   "outputs": [],
   "source": [
    "df = df.selectExpr(\"CAST(key AS STRING)\", \"CAST(value AS STRING)\")"
   ]
  },
  {
   "cell_type": "code",
   "execution_count": 5,
   "metadata": {},
   "outputs": [
    {
     "name": "stdout",
     "output_type": "stream",
     "text": [
      "root\n",
      " |-- key: string (nullable = true)\n",
      " |-- value: string (nullable = true)\n",
      "\n"
     ]
    }
   ],
   "source": [
    "df.printSchema()"
   ]
  },
  {
   "cell_type": "code",
   "execution_count": 6,
   "metadata": {},
   "outputs": [],
   "source": [
    "def foreach_batch_function(df, epoch_id):\n",
    "    df.show(45,False)"
   ]
  },
  {
   "cell_type": "code",
   "execution_count": 7,
   "metadata": {},
   "outputs": [
    {
     "name": "stdout",
     "output_type": "stream",
     "text": [
      "+---+-----+\n",
      "|key|value|\n",
      "+---+-----+\n",
      "+---+-----+\n",
      "\n",
      "+----+----------------------------------------------------------------------------------------------------------------------------------------------------------------------------------------------------------------------------------------------------------------------------------------------------------+\n",
      "|key |value                                                                                                                                                                                                                                                                                                     |\n",
      "+----+----------------------------------------------------------------------------------------------------------------------------------------------------------------------------------------------------------------------------------------------------------------------------------------------------------+\n",
      "|null|{\"Store\": \"1\", \"Date\": \"2011-01-07\", \"Temperature\": \"48.27\", \"Fuel_Price\": \"2.976\", \"MarkDown1\": \"\", \"MarkDown2\": \"\", \"MarkDown3\": \"\", \"MarkDown4\": \"\", \"MarkDown5\": \"\", \"CPI\": \"211.40474\", \"Unemployment\": \"7.742\", \"IsHoliday\": \"false\", \"last_weekly_sales\": \"1367320.0062122345\", \"ts\": 1676014421}  |\n",
      "|null|{\"Store\": \"2\", \"Date\": \"2011-01-07\", \"Temperature\": \"44.69\", \"Fuel_Price\": \"2.976\", \"MarkDown1\": \"\", \"MarkDown2\": \"\", \"MarkDown3\": \"\", \"MarkDown4\": \"\", \"MarkDown5\": \"\", \"CPI\": \"211.0649\", \"Unemployment\": \"8.028\", \"IsHoliday\": \"false\", \"last_weekly_sales\": \"1750434.559542656\", \"ts\": 1676014421}    |\n",
      "|null|{\"Store\": \"3\", \"Date\": \"2011-01-07\", \"Temperature\": \"53.35\", \"Fuel_Price\": \"2.976\", \"MarkDown1\": \"\", \"MarkDown2\": \"\", \"MarkDown3\": \"\", \"MarkDown4\": \"\", \"MarkDown5\": \"\", \"CPI\": \"214.69551\", \"Unemployment\": \"7.551\", \"IsHoliday\": \"false\", \"last_weekly_sales\": \"382677.7605667114\", \"ts\": 1676014421}   |\n",
      "|null|{\"Store\": \"4\", \"Date\": \"2011-01-07\", \"Temperature\": \"39.34\", \"Fuel_Price\": \"2.98\", \"MarkDown1\": \"\", \"MarkDown2\": \"\", \"MarkDown3\": \"\", \"MarkDown4\": \"\", \"MarkDown5\": \"\", \"CPI\": \"127.19177\", \"Unemployment\": \"6.51\", \"IsHoliday\": \"false\", \"last_weekly_sales\": \"1794868.7459630966\", \"ts\": 1676014421}    |\n",
      "|null|{\"Store\": \"5\", \"Date\": \"2011-01-07\", \"Temperature\": \"48.3\", \"Fuel_Price\": \"2.976\", \"MarkDown1\": \"\", \"MarkDown2\": \"\", \"MarkDown3\": \"\", \"MarkDown4\": \"\", \"MarkDown5\": \"\", \"CPI\": \"211.95602\", \"Unemployment\": \"6.634\", \"IsHoliday\": \"false\", \"last_weekly_sales\": \"298180.1766395569\", \"ts\": 1676014421}    |\n",
      "|null|{\"Store\": \"6\", \"Date\": \"2011-01-07\", \"Temperature\": \"47.78\", \"Fuel_Price\": \"2.976\", \"MarkDown1\": \"\", \"MarkDown2\": \"\", \"MarkDown3\": \"\", \"MarkDown4\": \"\", \"MarkDown5\": \"\", \"CPI\": \"212.91342\", \"Unemployment\": \"6.858\", \"IsHoliday\": \"false\", \"last_weekly_sales\": \"1464050.019191742\", \"ts\": 1676014421}   |\n",
      "|null|{\"Store\": \"7\", \"Date\": \"2011-01-07\", \"Temperature\": \"10.09\", \"Fuel_Price\": \"2.882\", \"MarkDown1\": \"\", \"MarkDown2\": \"\", \"MarkDown3\": \"\", \"MarkDown4\": \"\", \"MarkDown5\": \"\", \"CPI\": \"191.36838\", \"Unemployment\": \"8.818\", \"IsHoliday\": \"false\", \"last_weekly_sales\": \"729572.0823974609\", \"ts\": 1676014421}   |\n",
      "|null|{\"Store\": \"8\", \"Date\": \"2011-01-07\", \"Temperature\": \"35.77\", \"Fuel_Price\": \"2.976\", \"MarkDown1\": \"\", \"MarkDown2\": \"\", \"MarkDown3\": \"\", \"MarkDown4\": \"\", \"MarkDown5\": \"\", \"CPI\": \"214.74155\", \"Unemployment\": \"6.262\", \"IsHoliday\": \"false\", \"last_weekly_sales\": \"773586.4880084991\", \"ts\": 1676014421}   |\n",
      "|null|{\"Store\": \"9\", \"Date\": \"2011-01-07\", \"Temperature\": \"41.82\", \"Fuel_Price\": \"2.976\", \"MarkDown1\": \"\", \"MarkDown2\": \"\", \"MarkDown3\": \"\", \"MarkDown4\": \"\", \"MarkDown5\": \"\", \"CPI\": \"214.92348\", \"Unemployment\": \"6.416\", \"IsHoliday\": \"false\", \"last_weekly_sales\": \"459770.8497314453\", \"ts\": 1676014421}   |\n",
      "|null|{\"Store\": \"10\", \"Date\": \"2011-01-07\", \"Temperature\": \"43.43\", \"Fuel_Price\": \"3.287\", \"MarkDown1\": \"\", \"MarkDown2\": \"\", \"MarkDown3\": \"\", \"MarkDown4\": \"\", \"MarkDown5\": \"\", \"CPI\": \"127.19177\", \"Unemployment\": \"8.744\", \"IsHoliday\": \"false\", \"last_weekly_sales\": \"1707298.1340065002\", \"ts\": 1676014421} |\n",
      "|null|{\"Store\": \"11\", \"Date\": \"2011-01-07\", \"Temperature\": \"54.43\", \"Fuel_Price\": \"2.976\", \"MarkDown1\": \"\", \"MarkDown2\": \"\", \"MarkDown3\": \"\", \"MarkDown4\": \"\", \"MarkDown5\": \"\", \"CPI\": \"214.69551\", \"Unemployment\": \"7.551\", \"IsHoliday\": \"false\", \"last_weekly_sales\": \"1172003.096159935\", \"ts\": 1676014421}  |\n",
      "|null|{\"Store\": \"12\", \"Date\": \"2011-01-07\", \"Temperature\": \"37.64\", \"Fuel_Price\": \"3.287\", \"MarkDown1\": \"\", \"MarkDown2\": \"\", \"MarkDown3\": \"\", \"MarkDown4\": \"\", \"MarkDown5\": \"\", \"CPI\": \"127.19177\", \"Unemployment\": \"14.021\", \"IsHoliday\": \"false\", \"last_weekly_sales\": \"891736.9105825424\", \"ts\": 1676014421} |\n",
      "|null|{\"Store\": \"13\", \"Date\": \"2011-01-07\", \"Temperature\": \"16.94\", \"Fuel_Price\": \"2.891\", \"MarkDown1\": \"\", \"MarkDown2\": \"\", \"MarkDown3\": \"\", \"MarkDown4\": \"\", \"MarkDown5\": \"\", \"CPI\": \"127.19177\", \"Unemployment\": \"7.47\", \"IsHoliday\": \"false\", \"last_weekly_sales\": \"1675291.9933300018\", \"ts\": 1676014421}  |\n",
      "|null|{\"Store\": \"14\", \"Date\": \"2011-01-07\", \"Temperature\": \"34.32\", \"Fuel_Price\": \"3.193\", \"MarkDown1\": \"\", \"MarkDown2\": \"\", \"MarkDown3\": \"\", \"MarkDown4\": \"\", \"MarkDown5\": \"\", \"CPI\": \"182.59831\", \"Unemployment\": \"8.549\", \"IsHoliday\": \"false\", \"last_weekly_sales\": \"1623716.4598999023\", \"ts\": 1676014421} |\n",
      "|null|{\"Store\": \"15\", \"Date\": \"2011-01-07\", \"Temperature\": \"30.53\", \"Fuel_Price\": \"3.351\", \"MarkDown1\": \"\", \"MarkDown2\": \"\", \"MarkDown3\": \"\", \"MarkDown4\": \"\", \"MarkDown5\": \"\", \"CPI\": \"132.88232\", \"Unemployment\": \"7.771\", \"IsHoliday\": \"false\", \"last_weekly_sales\": \"543754.1699695587\", \"ts\": 1676014421}  |\n",
      "|null|{\"Store\": \"16\", \"Date\": \"2011-01-07\", \"Temperature\": \"12.39\", \"Fuel_Price\": \"2.882\", \"MarkDown1\": \"\", \"MarkDown2\": \"\", \"MarkDown3\": \"\", \"MarkDown4\": \"\", \"MarkDown5\": \"\", \"CPI\": \"191.36838\", \"Unemployment\": \"6.614\", \"IsHoliday\": \"false\", \"last_weekly_sales\": \"575317.3765983582\", \"ts\": 1676014421}  |\n",
      "|null|{\"Store\": \"17\", \"Date\": \"2011-01-07\", \"Temperature\": \"6.23\", \"Fuel_Price\": \"2.891\", \"MarkDown1\": \"\", \"MarkDown2\": \"\", \"MarkDown3\": \"\", \"MarkDown4\": \"\", \"MarkDown5\": \"\", \"CPI\": \"127.19177\", \"Unemployment\": \"6.866\", \"IsHoliday\": \"false\", \"last_weekly_sales\": \"635862.548871994\", \"ts\": 1676014421}    |\n",
      "|null|{\"Store\": \"18\", \"Date\": \"2011-01-07\", \"Temperature\": \"30.1\", \"Fuel_Price\": \"3.193\", \"MarkDown1\": \"\", \"MarkDown2\": \"\", \"MarkDown3\": \"\", \"MarkDown4\": \"\", \"MarkDown5\": \"\", \"CPI\": \"132.88232\", \"Unemployment\": \"9.131\", \"IsHoliday\": \"false\", \"last_weekly_sales\": \"887907.0075716972\", \"ts\": 1676014421}   |\n",
      "|null|{\"Store\": \"19\", \"Date\": \"2011-01-07\", \"Temperature\": \"31.34\", \"Fuel_Price\": \"3.351\", \"MarkDown1\": \"\", \"MarkDown2\": \"\", \"MarkDown3\": \"\", \"MarkDown4\": \"\", \"MarkDown5\": \"\", \"CPI\": \"132.88232\", \"Unemployment\": \"7.771\", \"IsHoliday\": \"false\", \"last_weekly_sales\": \"1275146.940322876\", \"ts\": 1676014421}  |\n",
      "|null|{\"Store\": \"20\", \"Date\": \"2011-01-07\", \"Temperature\": \"31.43\", \"Fuel_Price\": \"3.193\", \"MarkDown1\": \"\", \"MarkDown2\": \"\", \"MarkDown3\": \"\", \"MarkDown4\": \"\", \"MarkDown5\": \"\", \"CPI\": \"204.64877\", \"Unemployment\": \"7.343\", \"IsHoliday\": \"false\", \"last_weekly_sales\": \"1799737.7875204086\", \"ts\": 1676014421} |\n",
      "|null|{\"Store\": \"21\", \"Date\": \"2011-01-07\", \"Temperature\": \"44.24\", \"Fuel_Price\": \"2.976\", \"MarkDown1\": \"\", \"MarkDown2\": \"\", \"MarkDown3\": \"\", \"MarkDown4\": \"\", \"MarkDown5\": \"\", \"CPI\": \"211.0649\", \"Unemployment\": \"8.028\", \"IsHoliday\": \"false\", \"last_weekly_sales\": \"672903.2296905518\", \"ts\": 1676014421}   |\n",
      "|null|{\"Store\": \"22\", \"Date\": \"2011-01-07\", \"Temperature\": \"32.56\", \"Fuel_Price\": \"3.193\", \"MarkDown1\": \"\", \"MarkDown2\": \"\", \"MarkDown3\": \"\", \"MarkDown4\": \"\", \"MarkDown5\": \"\", \"CPI\": \"136.73326\", \"Unemployment\": \"8.458\", \"IsHoliday\": \"false\", \"last_weekly_sales\": \"774262.2795448303\", \"ts\": 1676014421}  |\n",
      "|null|{\"Store\": \"23\", \"Date\": \"2011-01-07\", \"Temperature\": \"27.81\", \"Fuel_Price\": \"3.193\", \"MarkDown1\": \"\", \"MarkDown2\": \"\", \"MarkDown3\": \"\", \"MarkDown4\": \"\", \"MarkDown5\": \"\", \"CPI\": \"132.88232\", \"Unemployment\": \"5.114\", \"IsHoliday\": \"false\", \"last_weekly_sales\": \"1169773.847726822\", \"ts\": 1676014421}  |\n",
      "|null|{\"Store\": \"24\", \"Date\": \"2011-01-07\", \"Temperature\": \"30.72\", \"Fuel_Price\": \"3.351\", \"MarkDown1\": \"\", \"MarkDown2\": \"\", \"MarkDown3\": \"\", \"MarkDown4\": \"\", \"MarkDown5\": \"\", \"CPI\": \"132.88232\", \"Unemployment\": \"8.252\", \"IsHoliday\": \"false\", \"last_weekly_sales\": \"1208600.0482931137\", \"ts\": 1676014421} |\n",
      "|null|{\"Store\": \"25\", \"Date\": \"2011-01-07\", \"Temperature\": \"29.0\", \"Fuel_Price\": \"3.193\", \"MarkDown1\": \"\", \"MarkDown2\": \"\", \"MarkDown3\": \"\", \"MarkDown4\": \"\", \"MarkDown5\": \"\", \"CPI\": \"204.64877\", \"Unemployment\": \"7.343\", \"IsHoliday\": \"false\", \"last_weekly_sales\": \"623092.5417337418\", \"ts\": 1676014421}   |\n",
      "|null|{\"Store\": \"26\", \"Date\": \"2011-01-07\", \"Temperature\": \"21.13\", \"Fuel_Price\": \"3.193\", \"MarkDown1\": \"\", \"MarkDown2\": \"\", \"MarkDown3\": \"\", \"MarkDown4\": \"\", \"MarkDown5\": \"\", \"CPI\": \"132.88232\", \"Unemployment\": \"7.907\", \"IsHoliday\": \"false\", \"last_weekly_sales\": \"877268.2867717743\", \"ts\": 1676014421}  |\n",
      "|null|{\"Store\": \"27\", \"Date\": \"2011-01-07\", \"Temperature\": \"34.42\", \"Fuel_Price\": \"3.351\", \"MarkDown1\": \"\", \"MarkDown2\": \"\", \"MarkDown3\": \"\", \"MarkDown4\": \"\", \"MarkDown5\": \"\", \"CPI\": \"136.73326\", \"Unemployment\": \"7.827\", \"IsHoliday\": \"false\", \"last_weekly_sales\": \"1440962.9996738434\", \"ts\": 1676014421} |\n",
      "|null|{\"Store\": \"28\", \"Date\": \"2011-01-07\", \"Temperature\": \"37.64\", \"Fuel_Price\": \"3.287\", \"MarkDown1\": \"\", \"MarkDown2\": \"\", \"MarkDown3\": \"\", \"MarkDown4\": \"\", \"MarkDown5\": \"\", \"CPI\": \"127.19177\", \"Unemployment\": \"14.021\", \"IsHoliday\": \"false\", \"last_weekly_sales\": \"1090558.5699949265\", \"ts\": 1676014421}|\n",
      "|null|{\"Store\": \"29\", \"Date\": \"2011-01-07\", \"Temperature\": \"32.56\", \"Fuel_Price\": \"3.193\", \"MarkDown1\": \"\", \"MarkDown2\": \"\", \"MarkDown3\": \"\", \"MarkDown4\": \"\", \"MarkDown5\": \"\", \"CPI\": \"132.88232\", \"Unemployment\": \"10.256\", \"IsHoliday\": \"false\", \"last_weekly_sales\": \"465992.020152092\", \"ts\": 1676014421}  |\n",
      "|null|{\"Store\": \"30\", \"Date\": \"2011-01-07\", \"Temperature\": \"44.24\", \"Fuel_Price\": \"2.976\", \"MarkDown1\": \"\", \"MarkDown2\": \"\", \"MarkDown3\": \"\", \"MarkDown4\": \"\", \"MarkDown5\": \"\", \"CPI\": \"211.0649\", \"Unemployment\": \"8.028\", \"IsHoliday\": \"false\", \"last_weekly_sales\": \"397631.0195083618\", \"ts\": 1676014421}   |\n",
      "|null|{\"Store\": \"31\", \"Date\": \"2011-01-07\", \"Temperature\": \"44.24\", \"Fuel_Price\": \"2.976\", \"MarkDown1\": \"\", \"MarkDown2\": \"\", \"MarkDown3\": \"\", \"MarkDown4\": \"\", \"MarkDown5\": \"\", \"CPI\": \"211.0649\", \"Unemployment\": \"8.028\", \"IsHoliday\": \"false\", \"last_weekly_sales\": \"1198071.5952210426\", \"ts\": 1676014421}  |\n",
      "|null|{\"Store\": \"32\", \"Date\": \"2011-01-07\", \"Temperature\": \"23.78\", \"Fuel_Price\": \"2.882\", \"MarkDown1\": \"\", \"MarkDown2\": \"\", \"MarkDown3\": \"\", \"MarkDown4\": \"\", \"MarkDown5\": \"\", \"CPI\": \"191.36838\", \"Unemployment\": \"8.818\", \"IsHoliday\": \"false\", \"last_weekly_sales\": \"955463.8401894569\", \"ts\": 1676014421}  |\n",
      "|null|{\"Store\": \"33\", \"Date\": \"2011-01-07\", \"Temperature\": \"46.25\", \"Fuel_Price\": \"3.287\", \"MarkDown1\": \"\", \"MarkDown2\": \"\", \"MarkDown3\": \"\", \"MarkDown4\": \"\", \"MarkDown5\": \"\", \"CPI\": \"127.19177\", \"Unemployment\": \"8.951\", \"IsHoliday\": \"false\", \"last_weekly_sales\": \"219804.85045146942\", \"ts\": 1676014421} |\n",
      "|null|{\"Store\": \"34\", \"Date\": \"2011-01-07\", \"Temperature\": \"24.5\", \"Fuel_Price\": \"2.98\", \"MarkDown1\": \"\", \"MarkDown2\": \"\", \"MarkDown3\": \"\", \"MarkDown4\": \"\", \"MarkDown5\": \"\", \"CPI\": \"127.19177\", \"Unemployment\": \"10.398\", \"IsHoliday\": \"false\", \"last_weekly_sales\": \"902109.6889791489\", \"ts\": 1676014421}   |\n",
      "|null|{\"Store\": \"35\", \"Date\": \"2011-01-07\", \"Temperature\": \"34.42\", \"Fuel_Price\": \"3.193\", \"MarkDown1\": \"\", \"MarkDown2\": \"\", \"MarkDown3\": \"\", \"MarkDown4\": \"\", \"MarkDown5\": \"\", \"CPI\": \"136.73326\", \"Unemployment\": \"8.549\", \"IsHoliday\": \"false\", \"last_weekly_sales\": \"576332.045044899\", \"ts\": 1676014421}   |\n",
      "|null|{\"Store\": \"36\", \"Date\": \"2011-01-07\", \"Temperature\": \"54.11\", \"Fuel_Price\": \"2.942\", \"MarkDown1\": \"\", \"MarkDown2\": \"\", \"MarkDown3\": \"\", \"MarkDown4\": \"\", \"MarkDown5\": \"\", \"CPI\": \"210.18423\", \"Unemployment\": \"8.395\", \"IsHoliday\": \"false\", \"last_weekly_sales\": \"359310.64520072937\", \"ts\": 1676014421} |\n",
      "|null|{\"Store\": \"37\", \"Date\": \"2011-01-07\", \"Temperature\": \"54.11\", \"Fuel_Price\": \"2.976\", \"MarkDown1\": \"\", \"MarkDown2\": \"\", \"MarkDown3\": \"\", \"MarkDown4\": \"\", \"MarkDown5\": \"\", \"CPI\": \"210.18423\", \"Unemployment\": \"8.395\", \"IsHoliday\": \"false\", \"last_weekly_sales\": \"460331.7005467415\", \"ts\": 1676014421}  |\n",
      "|null|{\"Store\": \"38\", \"Date\": \"2011-01-07\", \"Temperature\": \"37.64\", \"Fuel_Price\": \"3.287\", \"MarkDown1\": \"\", \"MarkDown2\": \"\", \"MarkDown3\": \"\", \"MarkDown4\": \"\", \"MarkDown5\": \"\", \"CPI\": \"127.19177\", \"Unemployment\": \"14.021\", \"IsHoliday\": \"false\", \"last_weekly_sales\": \"303908.8126311302\", \"ts\": 1676014421} |\n",
      "|null|{\"Store\": \"39\", \"Date\": \"2011-01-07\", \"Temperature\": \"52.74\", \"Fuel_Price\": \"2.976\", \"MarkDown1\": \"\", \"MarkDown2\": \"\", \"MarkDown3\": \"\", \"MarkDown4\": \"\", \"MarkDown5\": \"\", \"CPI\": \"210.18423\", \"Unemployment\": \"8.395\", \"IsHoliday\": \"false\", \"last_weekly_sales\": \"1230012.1604776382\", \"ts\": 1676014421} |\n",
      "|null|{\"Store\": \"40\", \"Date\": \"2011-01-07\", \"Temperature\": \"24.05\", \"Fuel_Price\": \"3.193\", \"MarkDown1\": \"\", \"MarkDown2\": \"\", \"MarkDown3\": \"\", \"MarkDown4\": \"\", \"MarkDown5\": \"\", \"CPI\": \"132.88232\", \"Unemployment\": \"5.114\", \"IsHoliday\": \"false\", \"last_weekly_sales\": \"811318.3016214371\", \"ts\": 1676014421}  |\n",
      "|null|{\"Store\": \"41\", \"Date\": \"2011-01-07\", \"Temperature\": \"23.76\", \"Fuel_Price\": \"2.882\", \"MarkDown1\": \"\", \"MarkDown2\": \"\", \"MarkDown3\": \"\", \"MarkDown4\": \"\", \"MarkDown5\": \"\", \"CPI\": \"191.36838\", \"Unemployment\": \"7.241\", \"IsHoliday\": \"false\", \"last_weekly_sales\": \"1001790.168967247\", \"ts\": 1676014421}  |\n",
      "|null|{\"Store\": \"42\", \"Date\": \"2011-01-07\", \"Temperature\": \"43.43\", \"Fuel_Price\": \"3.287\", \"MarkDown1\": \"\", \"MarkDown2\": \"\", \"MarkDown3\": \"\", \"MarkDown4\": \"\", \"MarkDown5\": \"\", \"CPI\": \"127.19177\", \"Unemployment\": \"8.744\", \"IsHoliday\": \"false\", \"last_weekly_sales\": \"428953.6009616852\", \"ts\": 1676014421}  |\n",
      "|null|{\"Store\": \"43\", \"Date\": \"2011-01-07\", \"Temperature\": \"40.47\", \"Fuel_Price\": \"2.976\", \"MarkDown1\": \"\", \"MarkDown2\": \"\", \"MarkDown3\": \"\", \"MarkDown4\": \"\", \"MarkDown5\": \"\", \"CPI\": \"203.4267\", \"Unemployment\": \"10.398\", \"IsHoliday\": \"false\", \"last_weekly_sales\": \"534740.2955141068\", \"ts\": 1676014421}  |\n",
      "|null|{\"Store\": \"44\", \"Date\": \"2011-01-07\", \"Temperature\": \"16.94\", \"Fuel_Price\": \"2.891\", \"MarkDown1\": \"\", \"MarkDown2\": \"\", \"MarkDown3\": \"\", \"MarkDown4\": \"\", \"MarkDown5\": \"\", \"CPI\": \"127.19177\", \"Unemployment\": \"7.224\", \"IsHoliday\": \"false\", \"last_weekly_sales\": \"241937.1082186699\", \"ts\": 1676014421}  |\n",
      "|null|{\"Store\": \"45\", \"Date\": \"2011-01-07\", \"Temperature\": \"34.32\", \"Fuel_Price\": \"3.193\", \"MarkDown1\": \"\", \"MarkDown2\": \"\", \"MarkDown3\": \"\", \"MarkDown4\": \"\", \"MarkDown5\": \"\", \"CPI\": \"182.59831\", \"Unemployment\": \"8.549\", \"IsHoliday\": \"false\", \"last_weekly_sales\": \"679156.2000865936\", \"ts\": 1676014421}  |\n",
      "+----+----------------------------------------------------------------------------------------------------------------------------------------------------------------------------------------------------------------------------------------------------------------------------------------------------------+\n",
      "\n"
     ]
    }
   ],
   "source": [
    "# Showing a microbatch\n",
    "query_raw = df.writeStream.outputMode(\"Update\")\\\n",
    "        .foreachBatch(foreach_batch_function)\\\n",
    "        .trigger(processingTime='5 seconds')\\\n",
    "        .start()"
   ]
  },
  {
   "cell_type": "code",
   "execution_count": 8,
   "metadata": {},
   "outputs": [],
   "source": [
    "query_raw.stop()"
   ]
  },
  {
   "cell_type": "markdown",
   "metadata": {},
   "source": [
    "#### Parquet formation"
   ]
  },
  {
   "cell_type": "code",
   "execution_count": 9,
   "metadata": {},
   "outputs": [],
   "source": [
    "# Setting schema for parquet format keeping all values as string except timestamp as long datatype\n",
    "schema_produceData = StructType() \\\n",
    "      .add(\"Store\",StringType(),True) \\\n",
    "      .add(\"Date\",StringType(),True) \\\n",
    "      .add(\"Temperature\",StringType(),True) \\\n",
    "      .add(\"Fuel_Price\",StringType(),True) \\\n",
    "      .add(\"MarkDown1\",StringType(),True) \\\n",
    "      .add(\"MarkDown2\",StringType(),True) \\\n",
    "      .add(\"MarkDown3\",StringType(),True) \\\n",
    "      .add(\"MarkDown4\",StringType(),True) \\\n",
    "      .add(\"MarkDown5\",StringType(),True) \\\n",
    "      .add(\"CPI\",StringType(),True) \\\n",
    "      .add(\"Unemployment\",StringType(),True) \\\n",
    "      .add(\"IsHoliday\",StringType(),True) \\\n",
    "      .add(\"last_weekly_sales\", StringType(),True) \\\n",
    "      .add(\"ts\",LongType(),True) "
   ]
  },
  {
   "cell_type": "code",
   "execution_count": 10,
   "metadata": {},
   "outputs": [],
   "source": [
    "# using schema in from_json function to get data which will be parsed\n",
    "df_parquet=df.select(F.from_json(F.col(\"value\").cast(\"string\"), schema_produceData).alias('parsed_value'))"
   ]
  },
  {
   "cell_type": "code",
   "execution_count": 11,
   "metadata": {},
   "outputs": [],
   "source": [
    "# Unpacking columns from parsed condition\n",
    "df_parquet = df_parquet.select(\n",
    "                    F.col(\"parsed_value.Store\").alias(\"Store\"),\n",
    "                    F.col(\"parsed_value.Date\").alias(\"Date\"),\n",
    "                    F.col(\"parsed_value.Temperature\").alias(\"Temperature\"),\n",
    "                    F.col(\"parsed_value.Fuel_Price\").alias(\"Fuel_Price\"),\n",
    "                    F.col(\"parsed_value.MarkDown1\").alias(\"MarkDown1\"),\n",
    "                    F.col(\"parsed_value.MarkDown2\").alias(\"MarkDown2\"),\n",
    "                    F.col(\"parsed_value.MarkDown3\").alias(\"MarkDown3\"),\n",
    "                    F.col(\"parsed_value.MarkDown4\").alias(\"MarkDown4\"),\n",
    "                    F.col(\"parsed_value.MarkDown5\").alias(\"MarkDown5\"),\n",
    "                    F.col(\"parsed_value.CPI\").alias(\"CPI\"),\n",
    "                    F.col(\"parsed_value.Unemployment\").alias(\"Unemployment\"),\n",
    "                    F.col(\"parsed_value.IsHoliday\").alias(\"IsHoliday\"),\n",
    "                    F.col(\"parsed_value.last_weekly_sales\").alias(\"last_weekly_sales\"),\n",
    "                    F.col(\"parsed_value.ts\").alias(\"ts\")\n",
    "                )"
   ]
  },
  {
   "cell_type": "code",
   "execution_count": 12,
   "metadata": {},
   "outputs": [
    {
     "name": "stdout",
     "output_type": "stream",
     "text": [
      "root\n",
      " |-- Store: string (nullable = true)\n",
      " |-- Date: string (nullable = true)\n",
      " |-- Temperature: string (nullable = true)\n",
      " |-- Fuel_Price: string (nullable = true)\n",
      " |-- MarkDown1: string (nullable = true)\n",
      " |-- MarkDown2: string (nullable = true)\n",
      " |-- MarkDown3: string (nullable = true)\n",
      " |-- MarkDown4: string (nullable = true)\n",
      " |-- MarkDown5: string (nullable = true)\n",
      " |-- CPI: string (nullable = true)\n",
      " |-- Unemployment: string (nullable = true)\n",
      " |-- IsHoliday: string (nullable = true)\n",
      " |-- last_weekly_sales: string (nullable = true)\n",
      " |-- ts: long (nullable = true)\n",
      "\n"
     ]
    }
   ],
   "source": [
    "# Data unpacked\n",
    "df_parquet.printSchema()"
   ]
  },
  {
   "cell_type": "code",
   "execution_count": 13,
   "metadata": {},
   "outputs": [
    {
     "name": "stdout",
     "output_type": "stream",
     "text": [
      "+-----+----+-----------+----------+---------+---------+---------+---------+---------+---+------------+---------+-----------------+---+\n",
      "|Store|Date|Temperature|Fuel_Price|MarkDown1|MarkDown2|MarkDown3|MarkDown4|MarkDown5|CPI|Unemployment|IsHoliday|last_weekly_sales|ts |\n",
      "+-----+----+-----------+----------+---------+---------+---------+---------+---------+---+------------+---------+-----------------+---+\n",
      "+-----+----+-----------+----------+---------+---------+---------+---------+---------+---+------------+---------+-----------------+---+\n",
      "\n",
      "+-----+----------+-----------+----------+---------+---------+---------+---------+---------+---------+------------+---------+------------------+----------+\n",
      "|Store|Date      |Temperature|Fuel_Price|MarkDown1|MarkDown2|MarkDown3|MarkDown4|MarkDown5|CPI      |Unemployment|IsHoliday|last_weekly_sales |ts        |\n",
      "+-----+----------+-----------+----------+---------+---------+---------+---------+---------+---------+------------+---------+------------------+----------+\n",
      "|1    |2011-01-07|48.27      |2.976     |         |         |         |         |         |211.40474|7.742       |false    |1367320.0062122345|1676014574|\n",
      "|2    |2011-01-07|44.69      |2.976     |         |         |         |         |         |211.0649 |8.028       |false    |1750434.559542656 |1676014574|\n",
      "|3    |2011-01-07|53.35      |2.976     |         |         |         |         |         |214.69551|7.551       |false    |382677.7605667114 |1676014574|\n",
      "|4    |2011-01-07|39.34      |2.98      |         |         |         |         |         |127.19177|6.51        |false    |1794868.7459630966|1676014574|\n",
      "|5    |2011-01-07|48.3       |2.976     |         |         |         |         |         |211.95602|6.634       |false    |298180.1766395569 |1676014574|\n",
      "|6    |2011-01-07|47.78      |2.976     |         |         |         |         |         |212.91342|6.858       |false    |1464050.019191742 |1676014574|\n",
      "|7    |2011-01-07|10.09      |2.882     |         |         |         |         |         |191.36838|8.818       |false    |729572.0823974609 |1676014574|\n",
      "|8    |2011-01-07|35.77      |2.976     |         |         |         |         |         |214.74155|6.262       |false    |773586.4880084991 |1676014574|\n",
      "|9    |2011-01-07|41.82      |2.976     |         |         |         |         |         |214.92348|6.416       |false    |459770.8497314453 |1676014574|\n",
      "|10   |2011-01-07|43.43      |3.287     |         |         |         |         |         |127.19177|8.744       |false    |1707298.1340065002|1676014574|\n",
      "|11   |2011-01-07|54.43      |2.976     |         |         |         |         |         |214.69551|7.551       |false    |1172003.096159935 |1676014574|\n",
      "|12   |2011-01-07|37.64      |3.287     |         |         |         |         |         |127.19177|14.021      |false    |891736.9105825424 |1676014574|\n",
      "|13   |2011-01-07|16.94      |2.891     |         |         |         |         |         |127.19177|7.47        |false    |1675291.9933300018|1676014574|\n",
      "|14   |2011-01-07|34.32      |3.193     |         |         |         |         |         |182.59831|8.549       |false    |1623716.4598999023|1676014574|\n",
      "|15   |2011-01-07|30.53      |3.351     |         |         |         |         |         |132.88232|7.771       |false    |543754.1699695587 |1676014574|\n",
      "|16   |2011-01-07|12.39      |2.882     |         |         |         |         |         |191.36838|6.614       |false    |575317.3765983582 |1676014574|\n",
      "|17   |2011-01-07|6.23       |2.891     |         |         |         |         |         |127.19177|6.866       |false    |635862.548871994  |1676014574|\n",
      "|18   |2011-01-07|30.1       |3.193     |         |         |         |         |         |132.88232|9.131       |false    |887907.0075716972 |1676014574|\n",
      "|19   |2011-01-07|31.34      |3.351     |         |         |         |         |         |132.88232|7.771       |false    |1275146.940322876 |1676014574|\n",
      "|20   |2011-01-07|31.43      |3.193     |         |         |         |         |         |204.64877|7.343       |false    |1799737.7875204086|1676014574|\n",
      "|21   |2011-01-07|44.24      |2.976     |         |         |         |         |         |211.0649 |8.028       |false    |672903.2296905518 |1676014574|\n",
      "|22   |2011-01-07|32.56      |3.193     |         |         |         |         |         |136.73326|8.458       |false    |774262.2795448303 |1676014574|\n",
      "|23   |2011-01-07|27.81      |3.193     |         |         |         |         |         |132.88232|5.114       |false    |1169773.847726822 |1676014574|\n",
      "|24   |2011-01-07|30.72      |3.351     |         |         |         |         |         |132.88232|8.252       |false    |1208600.0482931137|1676014574|\n",
      "|25   |2011-01-07|29.0       |3.193     |         |         |         |         |         |204.64877|7.343       |false    |623092.5417337418 |1676014574|\n",
      "|26   |2011-01-07|21.13      |3.193     |         |         |         |         |         |132.88232|7.907       |false    |877268.2867717743 |1676014574|\n",
      "|27   |2011-01-07|34.42      |3.351     |         |         |         |         |         |136.73326|7.827       |false    |1440962.9996738434|1676014574|\n",
      "|28   |2011-01-07|37.64      |3.287     |         |         |         |         |         |127.19177|14.021      |false    |1090558.5699949265|1676014574|\n",
      "|29   |2011-01-07|32.56      |3.193     |         |         |         |         |         |132.88232|10.256      |false    |465992.020152092  |1676014574|\n",
      "|30   |2011-01-07|44.24      |2.976     |         |         |         |         |         |211.0649 |8.028       |false    |397631.0195083618 |1676014574|\n",
      "|31   |2011-01-07|44.24      |2.976     |         |         |         |         |         |211.0649 |8.028       |false    |1198071.5952210426|1676014574|\n",
      "|32   |2011-01-07|23.78      |2.882     |         |         |         |         |         |191.36838|8.818       |false    |955463.8401894569 |1676014574|\n",
      "|33   |2011-01-07|46.25      |3.287     |         |         |         |         |         |127.19177|8.951       |false    |219804.85045146942|1676014574|\n",
      "|34   |2011-01-07|24.5       |2.98      |         |         |         |         |         |127.19177|10.398      |false    |902109.6889791489 |1676014574|\n",
      "|35   |2011-01-07|34.42      |3.193     |         |         |         |         |         |136.73326|8.549       |false    |576332.045044899  |1676014574|\n",
      "|36   |2011-01-07|54.11      |2.942     |         |         |         |         |         |210.18423|8.395       |false    |359310.64520072937|1676014574|\n",
      "|37   |2011-01-07|54.11      |2.976     |         |         |         |         |         |210.18423|8.395       |false    |460331.7005467415 |1676014574|\n",
      "|38   |2011-01-07|37.64      |3.287     |         |         |         |         |         |127.19177|14.021      |false    |303908.8126311302 |1676014574|\n",
      "|39   |2011-01-07|52.74      |2.976     |         |         |         |         |         |210.18423|8.395       |false    |1230012.1604776382|1676014574|\n",
      "|40   |2011-01-07|24.05      |3.193     |         |         |         |         |         |132.88232|5.114       |false    |811318.3016214371 |1676014574|\n",
      "|41   |2011-01-07|23.76      |2.882     |         |         |         |         |         |191.36838|7.241       |false    |1001790.168967247 |1676014574|\n",
      "|42   |2011-01-07|43.43      |3.287     |         |         |         |         |         |127.19177|8.744       |false    |428953.6009616852 |1676014574|\n",
      "|43   |2011-01-07|40.47      |2.976     |         |         |         |         |         |203.4267 |10.398      |false    |534740.2955141068 |1676014574|\n",
      "|44   |2011-01-07|16.94      |2.891     |         |         |         |         |         |127.19177|7.224       |false    |241937.1082186699 |1676014574|\n",
      "|45   |2011-01-07|34.32      |3.193     |         |         |         |         |         |182.59831|8.549       |false    |679156.2000865936 |1676014574|\n",
      "+-----+----------+-----------+----------+---------+---------+---------+---------+---------+---------+------------+---------+------------------+----------+\n",
      "\n",
      "+-----+----------+-----------+----------+---------+---------+---------+---------+---------+----------+------------+---------+------------------+----------+\n",
      "|Store|Date      |Temperature|Fuel_Price|MarkDown1|MarkDown2|MarkDown3|MarkDown4|MarkDown5|CPI       |Unemployment|IsHoliday|last_weekly_sales |ts        |\n",
      "+-----+----------+-----------+----------+---------+---------+---------+---------+---------+----------+------------+---------+------------------+----------+\n",
      "|1    |2011-01-14|35.4       |2.983     |         |         |         |         |         |211.45741 |7.742       |false    |1444732.2826251984|1676014579|\n",
      "|2    |2011-01-14|33.02      |2.983     |         |         |         |         |         |211.11768 |8.028       |false    |1758050.800201416 |1676014579|\n",
      "|3    |2011-01-14|44.76      |2.983     |         |         |         |         |         |214.74707 |7.551       |false    |378241.34564971924|1676014579|\n",
      "|4    |2011-01-14|31.6       |2.992     |         |         |         |         |         |127.300934|6.51        |false    |1862476.2654838562|1676014579|\n",
      "|5    |2011-01-14|37.74      |2.983     |         |         |         |         |         |212.00851 |6.634       |false    |286347.2607870102 |1676014579|\n",
      "|6    |2011-01-14|38.37      |2.983     |         |         |         |         |         |212.96559 |6.858       |false    |1350441.6768455505|1676014579|\n",
      "|7    |2011-01-14|11.32      |2.911     |         |         |         |         |         |191.4785  |8.818       |false    |661163.9355163574 |1676014579|\n",
      "|8    |2011-01-14|31.62      |2.983     |         |         |         |         |         |214.7931  |6.262       |false    |873065.231628418  |1676014579|\n",
      "|9    |2011-01-14|36.43      |2.983     |         |         |         |         |         |214.97496 |6.416       |false    |490981.7841911316 |1676014579|\n",
      "|10   |2011-01-14|49.98      |3.312     |         |         |         |         |         |127.300934|8.744       |false    |1714309.9055695534|1676014579|\n",
      "|11   |2011-01-14|45.34      |2.983     |         |         |         |         |         |214.74707 |7.551       |false    |1178905.4381046295|1676014579|\n",
      "|12   |2011-01-14|43.15      |3.312     |         |         |         |         |         |127.300934|14.021      |false    |910110.2346286774 |1676014579|\n",
      "|13   |2011-01-14|20.6       |2.903     |         |         |         |         |         |127.300934|7.47        |false    |1744544.3927431107|1676014579|\n",
      "|14   |2011-01-14|24.78      |3.205     |         |         |         |         |         |182.65858 |8.549       |false    |1864746.0770874023|1676014579|\n",
      "|15   |2011-01-14|19.53      |3.367     |         |         |         |         |         |132.95107 |7.771       |false    |509640.769107461  |1676014579|\n",
      "|16   |2011-01-14|17.46      |2.911     |         |         |         |         |         |191.4785  |6.614       |false    |573545.9568481445 |1676014579|\n",
      "|17   |2011-01-14|16.57      |2.903     |         |         |         |         |         |127.300934|6.866       |false    |1083071.1414341927|1676014579|\n",
      "|18   |2011-01-14|22.69      |3.215     |         |         |         |         |         |132.95107 |9.131       |false    |933960.294178009  |1676014579|\n",
      "|19   |2011-01-14|21.68      |3.367     |         |         |         |         |         |132.95107 |7.771       |false    |1224175.990032196 |1676014579|\n",
      "|20   |2011-01-14|20.39      |3.205     |         |         |         |         |         |204.7026  |7.343       |false    |1843030.960647583 |1676014579|\n",
      "|21   |2011-01-14|34.14      |2.983     |         |         |         |         |         |211.11768 |8.028       |false    |629152.064414978  |1676014579|\n",
      "|22   |2011-01-14|24.76      |3.215     |         |         |         |         |         |136.80348 |8.458       |false    |873954.7006216049 |1676014579|\n",
      "|23   |2011-01-14|18.2       |3.215     |         |         |         |         |         |132.95107 |5.114       |false    |1122034.4771758318|1676014579|\n",
      "|24   |2011-01-14|22.41      |3.367     |         |         |         |         |         |132.95107 |8.252       |false    |1178641.7101898193|1676014579|\n",
      "|25   |2011-01-14|18.3       |3.205     |         |         |         |         |         |204.7026  |7.343       |false    |558794.628118515  |1676014579|\n",
      "|26   |2011-01-14|16.7       |3.215     |         |         |         |         |         |132.95107 |7.907       |false    |938149.2035503387 |1676014579|\n",
      "|27   |2011-01-14|25.7       |3.367     |         |         |         |         |         |136.80348 |7.827       |false    |1568159.4855232239|1676014579|\n",
      "|28   |2011-01-14|43.15      |3.312     |         |         |         |         |         |127.300934|14.021      |false    |1402902.4577178955|1676014579|\n",
      "|29   |2011-01-14|24.76      |3.215     |         |         |         |         |         |132.95107 |10.256      |false    |455952.18232631683|1676014579|\n",
      "|30   |2011-01-14|34.14      |2.983     |         |         |         |         |         |211.11768 |8.028       |false    |451077.2143793106 |1676014579|\n",
      "|31   |2011-01-14|34.14      |2.983     |         |         |         |         |         |211.11768 |8.028       |false    |1311986.866649866 |1676014579|\n",
      "|32   |2011-01-14|21.69      |2.911     |         |         |         |         |         |191.4785  |8.818       |false    |1046416.1636219025|1676014579|\n",
      "|33   |2011-01-14|53.63      |3.312     |         |         |         |         |         |127.300934|8.951       |false    |243948.8238158226 |1676014579|\n",
      "|34   |2011-01-14|30.75      |2.992     |         |         |         |         |         |127.300934|10.398      |false    |900646.9426021576 |1676014579|\n",
      "|35   |2011-01-14|25.7       |3.205     |         |         |         |         |         |136.80348 |8.549       |false    |649289.7500033379 |1676014579|\n",
      "|36   |2011-01-14|42.87      |2.971     |         |         |         |         |         |210.23798 |8.395       |false    |384659.8513240814 |1676014579|\n",
      "|37   |2011-01-14|42.87      |2.983     |         |         |         |         |         |210.23798 |8.395       |false    |542464.0182904899 |1676014579|\n",
      "|38   |2011-01-14|43.15      |3.312     |         |         |         |         |         |127.300934|14.021      |false    |386344.54067850113|1676014579|\n",
      "|39   |2011-01-14|41.74      |2.983     |         |         |         |         |         |210.23798 |8.395       |false    |1224475.1148853302|1676014579|\n",
      "|40   |2011-01-14|18.55      |3.215     |         |         |         |         |         |132.95107 |5.114       |false    |894280.1898479462 |1676014579|\n",
      "|41   |2011-01-14|22.44      |2.911     |         |         |         |         |         |191.4785  |7.241       |false    |1153596.537284851 |1676014579|\n",
      "|42   |2011-01-14|49.98      |3.312     |         |         |         |         |         |127.300934|8.744       |false    |592947.7553062439 |1676014579|\n",
      "|43   |2011-01-14|43.45      |2.983     |         |         |         |         |         |203.48407 |10.398      |false    |611796.6152791977 |1676014579|\n",
      "|44   |2011-01-14|20.6       |2.903     |         |         |         |         |         |127.300934|7.224       |false    |288320.3788843155 |1676014579|\n",
      "|45   |2011-01-14|24.78      |3.205     |         |         |         |         |         |182.65858 |8.549       |false    |680254.342376709  |1676014579|\n",
      "+-----+----------+-----------+----------+---------+---------+---------+---------+---------+----------+------------+---------+------------------+----------+\n",
      "\n"
     ]
    }
   ],
   "source": [
    "# Showing a micro-batch\n",
    "query_parquet = df_parquet.writeStream.outputMode(\"Update\")\\\n",
    "        .foreachBatch(foreach_batch_function)\\\n",
    "        .trigger(processingTime='5 seconds')\\\n",
    "        .start()"
   ]
  },
  {
   "cell_type": "code",
   "execution_count": 14,
   "metadata": {},
   "outputs": [],
   "source": [
    "query_parquet.stop()"
   ]
  },
  {
   "cell_type": "markdown",
   "metadata": {},
   "source": [
    "##### the query can be viewed using terminal command: docker logs --follow [container_id]"
   ]
  },
  {
   "cell_type": "markdown",
   "metadata": {},
   "source": [
    "### 2.5 Transform data formats\n"
   ]
  },
  {
   "cell_type": "code",
   "execution_count": 15,
   "metadata": {},
   "outputs": [],
   "source": [
    "df_transformed = df_parquet.select(\n",
    "                            F.col('Store').cast('integer').alias('Store'),\n",
    "                            F.col('Date').cast('date').alias('Date'),\n",
    "                            F.col('Temperature').cast('float').alias('Temperature'),\n",
    "                            F.col('Fuel_Price').cast('float').alias('Fuel_Price'),\n",
    "                            F.col('MarkDown1').cast('float').alias('MarkDown1'),\n",
    "                            F.col('MarkDown2').cast('float').alias('MarkDown2'),\n",
    "                            F.col('MarkDown3').cast('float').alias('MarkDown3'),\n",
    "                            F.col('MarkDown4').cast('float').alias('MarkDown4'),\n",
    "                            F.col('MarkDown5').cast('float').alias('MarkDown5'),\n",
    "                            F.col('CPI').cast('float').alias('CPI'),\n",
    "                            F.col('Unemployment').cast('float').alias('Unemployment'),\n",
    "                            F.col('IsHoliday').cast('boolean').alias('IsHoliday'),\n",
    "                            F.col('last_weekly_sales').cast('float').alias('last_weekly_sales'),\n",
    "                            F.col('ts').cast('timestamp').alias('ts')\n",
    "                        )"
   ]
  },
  {
   "cell_type": "code",
   "execution_count": 16,
   "metadata": {},
   "outputs": [
    {
     "name": "stdout",
     "output_type": "stream",
     "text": [
      "root\n",
      " |-- Store: integer (nullable = true)\n",
      " |-- Date: date (nullable = true)\n",
      " |-- Temperature: float (nullable = true)\n",
      " |-- Fuel_Price: float (nullable = true)\n",
      " |-- MarkDown1: float (nullable = true)\n",
      " |-- MarkDown2: float (nullable = true)\n",
      " |-- MarkDown3: float (nullable = true)\n",
      " |-- MarkDown4: float (nullable = true)\n",
      " |-- MarkDown5: float (nullable = true)\n",
      " |-- CPI: float (nullable = true)\n",
      " |-- Unemployment: float (nullable = true)\n",
      " |-- IsHoliday: boolean (nullable = true)\n",
      " |-- last_weekly_sales: float (nullable = true)\n",
      " |-- ts: timestamp (nullable = true)\n",
      "\n"
     ]
    }
   ],
   "source": [
    "df_transformed.printSchema() # appropriate column transformation"
   ]
  },
  {
   "cell_type": "code",
   "execution_count": 19,
   "metadata": {},
   "outputs": [
    {
     "name": "stdout",
     "output_type": "stream",
     "text": [
      "+-----+----+-----------+----------+---------+---------+---------+---------+---------+---+------------+---------+-----------------+---+\n",
      "|Store|Date|Temperature|Fuel_Price|MarkDown1|MarkDown2|MarkDown3|MarkDown4|MarkDown5|CPI|Unemployment|IsHoliday|last_weekly_sales|ts |\n",
      "+-----+----+-----------+----------+---------+---------+---------+---------+---------+---+------------+---------+-----------------+---+\n",
      "+-----+----+-----------+----------+---------+---------+---------+---------+---------+---+------------+---------+-----------------+---+\n",
      "\n",
      "+-----+----------+-----------+----------+---------+---------+---------+---------+---------+---------+------------+---------+-----------------+-------------------+\n",
      "|Store|Date      |Temperature|Fuel_Price|MarkDown1|MarkDown2|MarkDown3|MarkDown4|MarkDown5|CPI      |Unemployment|IsHoliday|last_weekly_sales|ts                 |\n",
      "+-----+----------+-----------+----------+---------+---------+---------+---------+---------+---------+------------+---------+-----------------+-------------------+\n",
      "|1    |2011-01-28|43.83      |3.01      |null     |null     |null     |null     |null     |212.19705|7.742       |false    |1327405.4        |2023-02-10 07:37:20|\n",
      "|2    |2011-01-28|42.83      |3.01      |null     |null     |null     |null     |null     |211.85527|8.028       |false    |1751384.9        |2023-02-10 07:37:20|\n",
      "|3    |2011-01-28|48.71      |3.01      |null     |null     |null     |null     |null     |215.50658|7.551       |false    |350876.7         |2023-02-10 07:37:20|\n",
      "|4    |2011-01-28|40.6       |3.022     |null     |null     |null     |null     |null     |127.58003|6.51        |false    |1886394.0        |2023-02-10 07:37:20|\n",
      "|5    |2011-01-28|44.5       |3.01      |null     |null     |null     |null     |null     |212.7515 |6.634       |false    |275313.34        |2023-02-10 07:37:20|\n",
      "|6    |2011-01-28|44.98      |3.01      |null     |null     |null     |null     |null     |213.71434|6.858       |false    |1261253.1        |2023-02-10 07:37:20|\n",
      "|7    |2011-01-28|10.11      |3.008     |null     |null     |null     |null     |null     |191.6679 |8.818       |false    |521539.47        |2023-02-10 07:37:20|\n",
      "|8    |2011-01-28|39.26      |3.01      |null     |null     |null     |null     |null     |215.55289|6.262       |false    |822668.25        |2023-02-10 07:37:20|\n",
      "|9    |2011-01-28|43.9       |3.01      |null     |null     |null     |null     |null     |215.73584|6.416       |false    |454021.7         |2023-02-10 07:37:20|\n",
      "|10   |2011-01-28|53.03      |3.231     |null     |null     |null     |null     |null     |127.58003|8.744       |false    |1677556.1        |2023-02-10 07:37:20|\n",
      "|11   |2011-01-28|51.04      |3.01      |null     |null     |null     |null     |null     |215.50658|7.551       |false    |1187776.1        |2023-02-10 07:37:20|\n",
      "|12   |2011-01-28|50.74      |3.342     |null     |null     |null     |null     |null     |127.58003|14.021      |false    |802105.5         |2023-02-10 07:37:20|\n",
      "|13   |2011-01-28|31.64      |2.96      |null     |null     |null     |null     |null     |127.58003|7.47        |false    |1770177.4        |2023-02-10 07:37:20|\n",
      "|14   |2011-01-28|24.05      |3.237     |null     |null     |null     |null     |null     |183.1801 |8.549       |false    |1743188.9        |2023-02-10 07:37:20|\n",
      "|15   |2011-01-28|19.61      |3.402     |null     |null     |null     |null     |null     |133.10597|7.771       |false    |487311.03        |2023-02-10 07:37:20|\n",
      "|16   |2011-01-28|20.8       |3.008     |null     |null     |null     |null     |null     |191.6679 |6.614       |false    |462888.12        |2023-02-10 07:37:20|\n",
      "|17   |2011-01-28|22.16      |2.96      |null     |null     |null     |null     |null     |127.58003|6.866       |false    |755804.4         |2023-02-10 07:37:20|\n",
      "|18   |2011-01-28|14.84      |3.243     |null     |null     |null     |null     |null     |133.10597|9.131       |false    |891148.56        |2023-02-10 07:37:20|\n",
      "|19   |2011-01-28|20.66      |3.402     |null     |null     |null     |null     |null     |133.10597|7.771       |false    |1212967.9        |2023-02-10 07:37:20|\n",
      "|20   |2011-01-28|23.21      |3.237     |null     |null     |null     |null     |null     |205.3895 |7.343       |false    |1781805.6        |2023-02-10 07:37:20|\n",
      "|21   |2011-01-28|44.04      |3.01      |null     |null     |null     |null     |null     |211.85527|8.028       |false    |663941.75        |2023-02-10 07:37:20|\n",
      "|22   |2011-01-28|20.61      |3.243     |null     |null     |null     |null     |null     |136.97066|8.458       |false    |855001.0         |2023-02-10 07:37:20|\n",
      "|23   |2011-01-28|10.91      |3.243     |null     |null     |null     |null     |null     |133.10597|5.114       |false    |1110706.1        |2023-02-10 07:37:20|\n",
      "|24   |2011-01-28|17.91      |3.402     |null     |null     |null     |null     |null     |133.10597|8.252       |false    |1107170.4        |2023-02-10 07:37:20|\n",
      "|25   |2011-01-28|18.92      |3.237     |null     |null     |null     |null     |null     |205.3895 |7.343       |false    |568093.56        |2023-02-10 07:37:20|\n",
      "|26   |2011-01-28|5.54       |3.243     |null     |null     |null     |null     |null     |133.10597|7.907       |false    |809833.2         |2023-02-10 07:37:20|\n",
      "|27   |2011-01-28|23.64      |3.402     |null     |null     |null     |null     |null     |136.97066|7.827       |false    |1517029.9        |2023-02-10 07:37:20|\n",
      "|28   |2011-01-28|50.74      |3.342     |null     |null     |null     |null     |null     |127.58003|14.021      |false    |1079669.1        |2023-02-10 07:37:20|\n",
      "|29   |2011-01-28|20.61      |3.243     |null     |null     |null     |null     |null     |133.10597|10.256      |false    |445134.16        |2023-02-10 07:37:20|\n",
      "|30   |2011-01-28|44.04      |3.01      |null     |null     |null     |null     |null     |211.85527|8.028       |false    |439132.62        |2023-02-10 07:37:20|\n",
      "|31   |2011-01-28|44.04      |3.01      |null     |null     |null     |null     |null     |211.85527|8.028       |false    |1344167.1        |2023-02-10 07:37:20|\n",
      "|32   |2011-01-28|34.86      |3.008     |null     |null     |null     |null     |null     |191.6679 |8.818       |false    |1078348.9        |2023-02-10 07:37:20|\n",
      "|33   |2011-01-28|56.62      |3.231     |null     |null     |null     |null     |null     |127.58003|8.951       |false    |244856.44        |2023-02-10 07:37:20|\n",
      "|34   |2011-01-28|34.68      |3.022     |null     |null     |null     |null     |null     |127.58003|10.398      |false    |891025.4         |2023-02-10 07:37:20|\n",
      "|35   |2011-01-28|23.64      |3.237     |null     |null     |null     |null     |null     |136.97066|8.549       |false    |659902.06        |2023-02-10 07:37:20|\n",
      "|36   |2011-01-28|48.74      |2.995     |null     |null     |null     |null     |null     |210.96825|8.395       |false    |399191.06        |2023-02-10 07:37:20|\n",
      "|37   |2011-01-28|48.74      |3.01      |null     |null     |null     |null     |null     |210.96825|8.395       |false    |526486.8         |2023-02-10 07:37:20|\n",
      "|38   |2011-01-28|50.74      |3.342     |null     |null     |null     |null     |null     |127.58003|14.021      |false    |341098.06        |2023-02-10 07:37:20|\n",
      "|39   |2011-01-28|47.94      |3.01      |null     |null     |null     |null     |null     |210.96825|8.395       |false    |1243370.8        |2023-02-10 07:37:20|\n",
      "|40   |2011-01-28|9.51       |3.243     |null     |null     |null     |null     |null     |133.10597|5.114       |false    |764014.75        |2023-02-10 07:37:20|\n",
      "|41   |2011-01-28|32.23      |3.008     |null     |null     |null     |null     |null     |191.6679 |7.241       |false    |1088025.8        |2023-02-10 07:37:20|\n",
      "|42   |2011-01-28|53.03      |3.231     |null     |null     |null     |null     |null     |127.58003|8.744       |false    |533414.6         |2023-02-10 07:37:20|\n",
      "|43   |2011-01-28|44.98      |3.01      |null     |null     |null     |null     |null     |204.17897|10.398      |false    |601004.8         |2023-02-10 07:37:20|\n",
      "|44   |2011-01-28|31.64      |2.96      |null     |null     |null     |null     |null     |127.58003|7.224       |false    |276157.8         |2023-02-10 07:37:20|\n",
      "|45   |2011-01-28|24.05      |3.237     |null     |null     |null     |null     |null     |183.1801 |8.549       |false    |644285.3         |2023-02-10 07:37:20|\n",
      "+-----+----------+-----------+----------+---------+---------+---------+---------+---------+---------+------------+---------+-----------------+-------------------+\n",
      "\n"
     ]
    },
    {
     "name": "stdout",
     "output_type": "stream",
     "text": [
      "+-----+----------+-----------+----------+---------+---------+---------+---------+---------+---------+------------+---------+-----------------+-------------------+\n",
      "|Store|Date      |Temperature|Fuel_Price|MarkDown1|MarkDown2|MarkDown3|MarkDown4|MarkDown5|CPI      |Unemployment|IsHoliday|last_weekly_sales|ts                 |\n",
      "+-----+----------+-----------+----------+---------+---------+---------+---------+---------+---------+------------+---------+-----------------+-------------------+\n",
      "|1    |2011-02-04|42.27      |2.989     |null     |null     |null     |null     |null     |212.56688|7.742       |false    |1316899.2        |2023-02-10 07:37:25|\n",
      "|2    |2011-02-04|38.25      |2.989     |null     |null     |null     |null     |null     |212.22406|8.028       |false    |1695371.6        |2023-02-10 07:37:25|\n",
      "|3    |2011-02-04|45.95      |2.989     |null     |null     |null     |null     |null     |215.88634|7.551       |false    |364866.25        |2023-02-10 07:37:25|\n",
      "|4    |2011-02-04|34.61      |2.996     |null     |null     |null     |null     |null     |127.71958|6.51        |false    |1814240.9        |2023-02-10 07:37:25|\n",
      "|5    |2011-02-04|41.67      |2.989     |null     |null     |null     |null     |null     |213.12297|6.634       |false    |279088.4         |2023-02-10 07:37:25|\n",
      "|6    |2011-02-04|40.59      |2.989     |null     |null     |null     |null     |null     |214.08871|6.858       |false    |1287034.8        |2023-02-10 07:37:25|\n",
      "|7    |2011-02-04|-2.06      |3.011     |null     |null     |null     |null     |null     |191.76259|8.818       |false    |513372.16        |2023-02-10 07:37:25|\n",
      "|8    |2011-02-04|24.48      |2.989     |null     |null     |null     |null     |null     |215.93279|6.262       |false    |782256.7         |2023-02-10 07:37:25|\n",
      "|9    |2011-02-04|31.82      |2.989     |null     |null     |null     |null     |null     |216.11629|6.416       |false    |463561.47        |2023-02-10 07:37:25|\n",
      "|10   |2011-02-04|44.88      |3.348     |null     |null     |null     |null     |null     |127.71958|8.744       |false    |1715769.0        |2023-02-10 07:37:25|\n",
      "|11   |2011-02-04|47.17      |2.989     |null     |null     |null     |null     |null     |215.88634|7.551       |false    |1100418.8        |2023-02-10 07:37:25|\n",
      "|12   |2011-02-04|45.14      |3.348     |null     |null     |null     |null     |null     |127.71958|14.021      |false    |873119.06        |2023-02-10 07:37:25|\n",
      "|13   |2011-02-04|23.35      |2.974     |null     |null     |null     |null     |null     |127.71958|7.47        |false    |1633663.1        |2023-02-10 07:37:25|\n",
      "|14   |2011-02-04|28.73      |3.231     |null     |null     |null     |null     |null     |183.44086|8.549       |false    |1613718.4        |2023-02-10 07:37:25|\n",
      "|15   |2011-02-04|20.69      |3.4       |null     |null     |null     |null     |null     |133.18343|7.771       |false    |481119.6         |2023-02-10 07:37:25|\n",
      "|16   |2011-02-04|13.64      |3.011     |null     |null     |null     |null     |null     |191.76259|6.614       |false    |448392.0         |2023-02-10 07:37:25|\n",
      "|17   |2011-02-04|11.29      |2.974     |null     |null     |null     |null     |null     |127.71958|6.866       |false    |736335.7         |2023-02-10 07:37:25|\n",
      "|18   |2011-02-04|20.79      |3.24      |null     |null     |null     |null     |null     |133.18343|9.131       |false    |849540.9         |2023-02-10 07:37:25|\n",
      "|19   |2011-02-04|21.02      |3.4       |null     |null     |null     |null     |null     |133.18343|7.771       |false    |1284185.5        |2023-02-10 07:37:25|\n",
      "|20   |2011-02-04|28.58      |3.231     |null     |null     |null     |null     |null     |205.73294|7.343       |false    |1761506.6        |2023-02-10 07:37:25|\n",
      "|21   |2011-02-04|36.33      |2.989     |null     |null     |null     |null     |null     |212.22406|8.028       |false    |649878.3         |2023-02-10 07:37:25|\n",
      "|22   |2011-02-04|26.39      |3.24      |null     |null     |null     |null     |null     |137.05424|8.458       |false    |799369.2         |2023-02-10 07:37:25|\n",
      "|23   |2011-02-04|14.5       |3.24      |null     |null     |null     |null     |null     |133.18343|5.114       |false    |1083657.6        |2023-02-10 07:37:25|\n",
      "|24   |2011-02-04|23.83      |3.4       |null     |null     |null     |null     |null     |133.18343|8.252       |false    |1126921.4        |2023-02-10 07:37:25|\n",
      "|25   |2011-02-04|23.94      |3.231     |null     |null     |null     |null     |null     |205.73294|7.343       |false    |600448.7         |2023-02-10 07:37:25|\n",
      "|26   |2011-02-04|11.17      |3.24      |null     |null     |null     |null     |null     |133.18343|7.907       |false    |817485.1         |2023-02-10 07:37:25|\n",
      "|27   |2011-02-04|28.7       |3.4       |null     |null     |null     |null     |null     |137.05424|7.827       |false    |1421111.5        |2023-02-10 07:37:25|\n",
      "|28   |2011-02-04|45.14      |3.348     |null     |null     |null     |null     |null     |127.71958|14.021      |false    |1127859.6        |2023-02-10 07:37:25|\n",
      "|29   |2011-02-04|26.39      |3.24      |null     |null     |null     |null     |null     |133.18343|10.256      |false    |410426.97        |2023-02-10 07:37:25|\n",
      "|30   |2011-02-04|36.33      |2.989     |null     |null     |null     |null     |null     |212.22406|8.028       |false    |425989.03        |2023-02-10 07:37:25|\n",
      "|31   |2011-02-04|36.33      |2.989     |null     |null     |null     |null     |null     |212.22406|8.028       |false    |1254955.6        |2023-02-10 07:37:25|\n",
      "|32   |2011-02-04|15.47      |3.011     |null     |null     |null     |null     |null     |191.76259|8.818       |false    |1006814.9        |2023-02-10 07:37:25|\n",
      "|33   |2011-02-04|49.26      |3.348     |null     |null     |null     |null     |null     |127.71958|8.951       |false    |231155.9         |2023-02-10 07:37:25|\n",
      "|34   |2011-02-04|23.82      |2.996     |null     |null     |null     |null     |null     |127.71958|10.398      |false    |836717.75        |2023-02-10 07:37:25|\n",
      "|35   |2011-02-04|28.7       |3.231     |null     |null     |null     |null     |null     |137.05424|8.549       |false    |633289.75        |2023-02-10 07:37:25|\n",
      "|36   |2011-02-04|46.68      |2.98      |null     |null     |null     |null     |null     |211.33337|8.395       |false    |372174.12        |2023-02-10 07:37:25|\n",
      "|37   |2011-02-04|46.68      |2.989     |null     |null     |null     |null     |null     |211.33337|8.395       |false    |513672.34        |2023-02-10 07:37:25|\n",
      "|38   |2011-02-04|45.14      |3.348     |null     |null     |null     |null     |null     |127.71958|14.021      |false    |357557.16        |2023-02-10 07:37:25|\n",
      "|39   |2011-02-04|45.96      |2.989     |null     |null     |null     |null     |null     |211.33337|8.395       |false    |1158698.5        |2023-02-10 07:37:25|\n",
      "|40   |2011-02-04|13.29      |3.24      |null     |null     |null     |null     |null     |133.18343|5.114       |false    |775910.44        |2023-02-10 07:37:25|\n",
      "|41   |2011-02-04|14.56      |3.011     |null     |null     |null     |null     |null     |191.76259|7.241       |false    |1026439.94       |2023-02-10 07:37:25|\n",
      "|42   |2011-02-04|44.88      |3.348     |null     |null     |null     |null     |null     |127.71958|8.744       |false    |499081.78        |2023-02-10 07:37:25|\n",
      "|43   |2011-02-04|33.21      |2.989     |null     |null     |null     |null     |null     |204.52641|10.398      |false    |562558.25        |2023-02-10 07:37:25|\n",
      "|44   |2011-02-04|23.35      |2.974     |null     |null     |null     |null     |null     |127.71958|7.224       |false    |276011.4         |2023-02-10 07:37:25|\n",
      "|45   |2011-02-04|28.73      |3.231     |null     |null     |null     |null     |null     |183.44086|8.549       |false    |617207.56        |2023-02-10 07:37:25|\n",
      "+-----+----------+-----------+----------+---------+---------+---------+---------+---------+---------+------------+---------+-----------------+-------------------+\n",
      "\n"
     ]
    }
   ],
   "source": [
    "# Showing a micro-batch of transformed datframe\n",
    "query_transformed = df_transformed.writeStream.outputMode(\"Update\")\\\n",
    "        .foreachBatch(foreach_batch_function)\\\n",
    "        .trigger(processingTime='5 seconds')\\\n",
    "        .start()"
   ]
  },
  {
   "cell_type": "code",
   "execution_count": 20,
   "metadata": {},
   "outputs": [],
   "source": [
    "# stopping query\n",
    "query_transformed.stop()"
   ]
  },
  {
   "cell_type": "markdown",
   "metadata": {},
   "source": [
    "### 2.6 Prepare feature columns\n"
   ]
  },
  {
   "cell_type": "code",
   "execution_count": 21,
   "metadata": {},
   "outputs": [],
   "source": [
    "# creating more columns using withColumn function\n",
    "df_features = df_transformed.withColumn('Month', F.month('Date')) \\\n",
    "                          .withColumn('day_of_month', F.dayofmonth('Date')) \\\n",
    "                          .withColumn('day_of_year', F.dayofyear('Date')) \\\n",
    "                          .withColumn('week_of_year', F.weekofyear('Date'))                         "
   ]
  },
  {
   "cell_type": "code",
   "execution_count": 22,
   "metadata": {},
   "outputs": [
    {
     "name": "stdout",
     "output_type": "stream",
     "text": [
      "root\n",
      " |-- Store: integer (nullable = true)\n",
      " |-- Date: date (nullable = true)\n",
      " |-- Temperature: float (nullable = true)\n",
      " |-- Fuel_Price: float (nullable = true)\n",
      " |-- MarkDown1: float (nullable = true)\n",
      " |-- MarkDown2: float (nullable = true)\n",
      " |-- MarkDown3: float (nullable = true)\n",
      " |-- MarkDown4: float (nullable = true)\n",
      " |-- MarkDown5: float (nullable = true)\n",
      " |-- CPI: float (nullable = true)\n",
      " |-- Unemployment: float (nullable = true)\n",
      " |-- IsHoliday: boolean (nullable = true)\n",
      " |-- last_weekly_sales: float (nullable = true)\n",
      " |-- ts: timestamp (nullable = true)\n",
      " |-- Month: integer (nullable = true)\n",
      " |-- day_of_month: integer (nullable = true)\n",
      " |-- day_of_year: integer (nullable = true)\n",
      " |-- week_of_year: integer (nullable = true)\n",
      "\n"
     ]
    }
   ],
   "source": [
    "df_features.printSchema()"
   ]
  },
  {
   "cell_type": "markdown",
   "metadata": {},
   "source": [
    "### 2.7 Join the local data\n"
   ]
  },
  {
   "cell_type": "markdown",
   "metadata": {},
   "source": [
    "####            In spark, the left outer join is supported when the stream DF acts as the left table during the join.\n",
    "####             So, stream-dataframe (df_features) is placed in left and static dataframe (df_stores) is placed in right for left joining.\n",
    "##### Reference : ProjectPro  , https://www.projectpro.io/recipes/perform-stream-batch-or-static-joins-spark-structured-streaming#mcetoc_1g4rg2kjqa\n",
    "\n",
    "####\n"
   ]
  },
  {
   "cell_type": "code",
   "execution_count": 23,
   "metadata": {},
   "outputs": [],
   "source": [
    "joined_df = df_features.join(df_stores, df_features.Store == df_stores.Store, how = \"left\").drop(df_stores.Store)"
   ]
  },
  {
   "cell_type": "code",
   "execution_count": 24,
   "metadata": {},
   "outputs": [
    {
     "name": "stdout",
     "output_type": "stream",
     "text": [
      "root\n",
      " |-- Store: integer (nullable = true)\n",
      " |-- Date: date (nullable = true)\n",
      " |-- Temperature: float (nullable = true)\n",
      " |-- Fuel_Price: float (nullable = true)\n",
      " |-- MarkDown1: float (nullable = true)\n",
      " |-- MarkDown2: float (nullable = true)\n",
      " |-- MarkDown3: float (nullable = true)\n",
      " |-- MarkDown4: float (nullable = true)\n",
      " |-- MarkDown5: float (nullable = true)\n",
      " |-- CPI: float (nullable = true)\n",
      " |-- Unemployment: float (nullable = true)\n",
      " |-- IsHoliday: boolean (nullable = true)\n",
      " |-- last_weekly_sales: float (nullable = true)\n",
      " |-- ts: timestamp (nullable = true)\n",
      " |-- Month: integer (nullable = true)\n",
      " |-- day_of_month: integer (nullable = true)\n",
      " |-- day_of_year: integer (nullable = true)\n",
      " |-- week_of_year: integer (nullable = true)\n",
      " |-- Type: string (nullable = true)\n",
      " |-- Size: integer (nullable = true)\n",
      "\n"
     ]
    }
   ],
   "source": [
    "joined_df.printSchema()"
   ]
  },
  {
   "cell_type": "markdown",
   "metadata": {},
   "source": [
    "### 2.8 Perform predictions\n"
   ]
  },
  {
   "cell_type": "code",
   "execution_count": 25,
   "metadata": {},
   "outputs": [],
   "source": [
    "#importing library\n",
    "from pyspark.ml import PipelineModel"
   ]
  },
  {
   "cell_type": "code",
   "execution_count": 26,
   "metadata": {
    "scrolled": true
   },
   "outputs": [],
   "source": [
    "# loading the model\n",
    "gbtModel = PipelineModel.load('sales_estimation_pipeline_model')"
   ]
  },
  {
   "cell_type": "code",
   "execution_count": 27,
   "metadata": {},
   "outputs": [],
   "source": [
    "# creating prediction on joined dataframe\n",
    "test_case = joined_df\n",
    "predictionsGbt = gbtModel.transform(test_case)"
   ]
  },
  {
   "cell_type": "code",
   "execution_count": 28,
   "metadata": {},
   "outputs": [
    {
     "name": "stdout",
     "output_type": "stream",
     "text": [
      "+-----+----+-----------+----------+---------+---------+---------+---------+---------+---+------------+---------+-----------------+---+-----+------------+-----------+------------+----+----+--------+--------+--------+----------+\n",
      "|Store|Date|Temperature|Fuel_Price|MarkDown1|MarkDown2|MarkDown3|MarkDown4|MarkDown5|CPI|Unemployment|IsHoliday|last_weekly_sales|ts |Month|day_of_month|day_of_year|week_of_year|Type|Size|Type_idx|Type_vec|features|prediction|\n",
      "+-----+----+-----------+----------+---------+---------+---------+---------+---------+---+------------+---------+-----------------+---+-----+------------+-----------+------------+----+----+--------+--------+--------+----------+\n",
      "+-----+----+-----------+----------+---------+---------+---------+---------+---------+---+------------+---------+-----------------+---+-----+------------+-----------+------------+----+----+--------+--------+--------+----------+\n",
      "\n",
      "+-----+----------+-----------+----------+---------+---------+---------+---------+---------+---------+------------+---------+-----------------+-------------------+-----+------------+-----------+------------+----+------+--------+-------------+------------------------------------------------------------------------------------------------------------------------------------------------------------+------------------+\n",
      "|Store|Date      |Temperature|Fuel_Price|MarkDown1|MarkDown2|MarkDown3|MarkDown4|MarkDown5|CPI      |Unemployment|IsHoliday|last_weekly_sales|ts                 |Month|day_of_month|day_of_year|week_of_year|Type|Size  |Type_idx|Type_vec     |features                                                                                                                                                    |prediction        |\n",
      "+-----+----------+-----------+----------+---------+---------+---------+---------+---------+---------+------------+---------+-----------------+-------------------+-----+------------+-----------+------------+----+------+--------+-------------+------------------------------------------------------------------------------------------------------------------------------------------------------------+------------------+\n",
      "|1    |2011-04-08|67.84      |3.622     |null     |null     |null     |null     |null     |215.07439|7.682       |false    |1495064.8        |2023-02-10 07:38:10|4    |8           |98         |14          |A   |151315|0.0     |(3,[0],[1.0])|[1.0,67.83999633789062,3.621999979019165,NaN,NaN,NaN,NaN,NaN,215.0743865966797,7.682000160217285,0.0,151315.0,4.0,8.0,98.0,14.0,1495064.75,1.0,0.0,0.0]     |1562822.8643611944|\n",
      "|2    |2011-04-08|67.0       |3.622     |null     |null     |null     |null     |null     |214.72522|7.931       |false    |1800171.4        |2023-02-10 07:38:10|4    |8           |98         |14          |A   |202307|0.0     |(3,[0],[1.0])|[2.0,67.0,3.621999979019165,NaN,NaN,NaN,NaN,NaN,214.7252197265625,7.931000232696533,0.0,202307.0,4.0,8.0,98.0,14.0,1800171.375,1.0,0.0,0.0]                 |1937191.4443561826|\n",
      "|3    |2011-04-08|72.55      |3.622     |null     |null     |null     |null     |null     |218.45537|7.574       |false    |374556.06        |2023-02-10 07:38:10|4    |8           |98         |14          |B   |37392 |1.0     |(3,[1],[1.0])|[3.0,72.55000305175781,3.621999979019165,NaN,NaN,NaN,NaN,NaN,218.4553680419922,7.573999881744385,0.0,37392.0,4.0,8.0,98.0,14.0,374556.0625,0.0,1.0,0.0]     |424509.20985059126|\n",
      "|4    |2011-04-08|62.61      |3.605     |null     |null     |null     |null     |null     |128.8238 |5.946       |false    |1900246.5        |2023-02-10 07:38:10|4    |8           |98         |14          |A   |205863|0.0     |(3,[0],[1.0])|[4.0,62.61000061035156,3.6050000190734863,NaN,NaN,NaN,NaN,NaN,128.8238067626953,5.946000099182129,0.0,205863.0,4.0,8.0,98.0,14.0,1900246.5,1.0,0.0,0.0]     |1996921.2660323558|\n",
      "|5    |2011-04-08|69.64      |3.622     |null     |null     |null     |null     |null     |215.6408 |6.489       |false    |314316.56        |2023-02-10 07:38:10|4    |8           |98         |14          |B   |34875 |1.0     |(3,[1],[1.0])|[5.0,69.63999938964844,3.621999979019165,NaN,NaN,NaN,NaN,NaN,215.6407928466797,6.488999843597412,0.0,34875.0,4.0,8.0,98.0,14.0,314316.5625,0.0,1.0,0.0]     |313812.8478635082 |\n",
      "|6    |2011-04-08|70.35      |3.622     |null     |null     |null     |null     |null     |216.62444|6.855       |false    |1459276.8        |2023-02-10 07:38:10|4    |8           |98         |14          |A   |202505|0.0     |(3,[0],[1.0])|[6.0,70.3499984741211,3.621999979019165,NaN,NaN,NaN,NaN,NaN,216.6244354248047,6.855000019073486,0.0,202505.0,4.0,8.0,98.0,14.0,1459276.75,1.0,0.0,0.0]      |1558840.5546235114|\n",
      "|7    |2011-04-08|30.64      |3.532     |null     |null     |null     |null     |null     |192.34186|8.595       |false    |513409.66        |2023-02-10 07:38:10|4    |8           |98         |14          |B   |70713 |1.0     |(3,[1],[1.0])|[7.0,30.639999389648438,3.5320000648498535,NaN,NaN,NaN,NaN,NaN,192.34185791015625,8.595000267028809,0.0,70713.0,4.0,8.0,98.0,14.0,513409.65625,0.0,1.0,0.0] |520556.91514483554|\n",
      "|8    |2011-04-08|65.62      |3.622     |null     |null     |null     |null     |null     |218.50267|6.297       |false    |878762.3         |2023-02-10 07:38:10|4    |8           |98         |14          |A   |155078|0.0     |(3,[0],[1.0])|[8.0,65.62000274658203,3.621999979019165,NaN,NaN,NaN,NaN,NaN,218.50267028808594,6.296999931335449,0.0,155078.0,4.0,8.0,98.0,14.0,878762.3125,1.0,0.0,0.0]   |977473.3572809808 |\n",
      "|9    |2011-04-08|71.4       |3.622     |null     |null     |null     |null     |null     |218.68958|6.38        |false    |520962.12        |2023-02-10 07:38:10|4    |8           |98         |14          |B   |125833|1.0     |(3,[1],[1.0])|[9.0,71.4000015258789,3.621999979019165,NaN,NaN,NaN,NaN,NaN,218.6895751953125,6.380000114440918,0.0,125833.0,4.0,8.0,98.0,14.0,520962.125,0.0,1.0,0.0]      |516294.37526399974|\n",
      "|10   |2011-04-08|73.03      |3.818     |null     |null     |null     |null     |null     |128.8238 |8.494       |false    |1827733.1        |2023-02-10 07:38:10|4    |8           |98         |14          |B   |126512|1.0     |(3,[1],[1.0])|[10.0,73.02999877929688,3.818000078201294,NaN,NaN,NaN,NaN,NaN,128.8238067626953,8.494000434875488,0.0,126512.0,4.0,8.0,98.0,14.0,1827733.125,0.0,1.0,0.0]   |1872372.1880006595|\n",
      "|11   |2011-04-08|73.57      |3.622     |null     |null     |null     |null     |null     |218.45537|7.574       |false    |1258674.1        |2023-02-10 07:38:10|4    |8           |98         |14          |A   |207499|0.0     |(3,[0],[1.0])|[11.0,73.56999969482422,3.621999979019165,NaN,NaN,NaN,NaN,NaN,218.4553680419922,7.573999881744385,0.0,207499.0,4.0,8.0,98.0,14.0,1258674.125,1.0,0.0,0.0]   |1327340.5920963262|\n",
      "|12   |2011-04-08|64.47      |4.003     |null     |null     |null     |null     |null     |128.8238 |13.736      |false    |1005463.5        |2023-02-10 07:38:10|4    |8           |98         |14          |B   |112238|1.0     |(3,[1],[1.0])|[12.0,64.47000122070312,4.002999782562256,NaN,NaN,NaN,NaN,NaN,128.8238067626953,13.736000061035156,0.0,112238.0,4.0,8.0,98.0,14.0,1005463.5,0.0,1.0,0.0]    |997084.8928658911 |\n",
      "|13   |2011-04-08|42.75      |3.547     |null     |null     |null     |null     |null     |128.8238 |7.193       |false    |1864238.6        |2023-02-10 07:38:10|4    |8           |98         |14          |A   |219622|0.0     |(3,[0],[1.0])|[13.0,42.75,3.546999931335449,NaN,NaN,NaN,NaN,NaN,128.8238067626953,7.192999839782715,0.0,219622.0,4.0,8.0,98.0,14.0,1864238.625,1.0,0.0,0.0]               |1987821.8441963866|\n",
      "|14   |2011-04-08|48.71      |3.72      |null     |null     |null     |null     |null     |185.36366|8.521       |false    |1869110.5        |2023-02-10 07:38:10|4    |8           |98         |14          |A   |200898|0.0     |(3,[0],[1.0])|[14.0,48.709999084472656,3.7200000286102295,NaN,NaN,NaN,NaN,NaN,185.36366271972656,8.520999908447266,0.0,200898.0,4.0,8.0,98.0,14.0,1869110.5,1.0,0.0,0.0]  |1987821.8441963866|\n",
      "|15   |2011-04-08|40.94      |3.895     |null     |null     |null     |null     |null     |134.17778|7.658       |false    |542556.06        |2023-02-10 07:38:10|4    |8           |98         |14          |B   |123737|1.0     |(3,[1],[1.0])|[15.0,40.939998626708984,3.8949999809265137,NaN,NaN,NaN,NaN,NaN,134.1777801513672,7.6579999923706055,0.0,123737.0,4.0,8.0,98.0,14.0,542556.0625,0.0,1.0,0.0]|577023.2577993219 |\n",
      "|16   |2011-04-08|38.04      |3.532     |null     |null     |null     |null     |null     |192.34186|6.339       |false    |459756.1         |2023-02-10 07:38:10|4    |8           |98         |14          |B   |57197 |1.0     |(3,[1],[1.0])|[16.0,38.040000915527344,3.5320000648498535,NaN,NaN,NaN,NaN,NaN,192.34185791015625,6.339000225067139,0.0,57197.0,4.0,8.0,98.0,14.0,459756.09375,0.0,1.0,0.0]|463183.6724428771 |\n",
      "|17   |2011-04-08|39.16      |3.547     |null     |null     |null     |null     |null     |128.8238 |6.774       |false    |795859.25        |2023-02-10 07:38:10|4    |8           |98         |14          |B   |93188 |1.0     |(3,[1],[1.0])|[17.0,39.15999984741211,3.546999931335449,NaN,NaN,NaN,NaN,NaN,128.8238067626953,6.77400016784668,0.0,93188.0,4.0,8.0,98.0,14.0,795859.25,0.0,1.0,0.0]       |822033.8028967719 |\n",
      "|18   |2011-04-08|43.32      |3.72      |null     |null     |null     |null     |null     |134.17778|8.975       |false    |938083.2         |2023-02-10 07:38:10|4    |8           |98         |14          |B   |120653|1.0     |(3,[1],[1.0])|[18.0,43.31999969482422,3.7200000286102295,NaN,NaN,NaN,NaN,NaN,134.1777801513672,8.975000381469727,0.0,120653.0,4.0,8.0,98.0,14.0,938083.1875,0.0,1.0,0.0]  |974987.3411928681 |\n",
      "|19   |2011-04-08|41.26      |3.895     |null     |null     |null     |null     |null     |134.17778|7.658       |false    |1305950.2        |2023-02-10 07:38:10|4    |8           |98         |14          |A   |203819|0.0     |(3,[0],[1.0])|[19.0,41.2599983215332,3.8949999809265137,NaN,NaN,NaN,NaN,NaN,134.1777801513672,7.6579999923706055,0.0,203819.0,4.0,8.0,98.0,14.0,1305950.25,1.0,0.0,0.0]   |1436691.0926546808|\n",
      "|20   |2011-04-08|47.09      |3.72      |null     |null     |null     |null     |null     |208.10927|7.287       |false    |1927993.1        |2023-02-10 07:38:10|4    |8           |98         |14          |A   |203742|0.0     |(3,[0],[1.0])|[20.0,47.09000015258789,3.7200000286102295,NaN,NaN,NaN,NaN,NaN,208.10926818847656,7.2870001792907715,0.0,203742.0,4.0,8.0,98.0,14.0,1927993.125,1.0,0.0,0.0]|2022850.0735046044|\n",
      "|21   |2011-04-08|68.62      |3.622     |null     |null     |null     |null     |null     |214.72522|7.931       |false    |732056.4         |2023-02-10 07:38:10|4    |8           |98         |14          |B   |140167|1.0     |(3,[1],[1.0])|[21.0,68.62000274658203,3.621999979019165,NaN,NaN,NaN,NaN,NaN,214.7252197265625,7.931000232696533,0.0,140167.0,4.0,8.0,98.0,14.0,732056.375,0.0,1.0,0.0]    |744567.9731127577 |\n",
      "|22   |2011-04-08|44.42      |3.72      |null     |null     |null     |null     |null     |138.06389|8.252       |false    |951588.4         |2023-02-10 07:38:10|4    |8           |98         |14          |B   |119557|1.0     |(3,[1],[1.0])|[22.0,44.41999816894531,3.7200000286102295,NaN,NaN,NaN,NaN,NaN,138.0638885498047,8.251999855041504,0.0,119557.0,4.0,8.0,98.0,14.0,951588.375,0.0,1.0,0.0]   |974987.3411928681 |\n",
      "|23   |2011-04-08|36.74      |3.72      |null     |null     |null     |null     |null     |134.17778|4.781       |false    |1182695.0        |2023-02-10 07:38:10|4    |8           |98         |14          |B   |114533|1.0     |(3,[1],[1.0])|[23.0,36.7400016784668,3.7200000286102295,NaN,NaN,NaN,NaN,NaN,134.1777801513672,4.781000137329102,0.0,114533.0,4.0,8.0,98.0,14.0,1182695.0,0.0,1.0,0.0]     |1197375.1939235488|\n",
      "|24   |2011-04-08|44.7       |3.895     |null     |null     |null     |null     |null     |134.17778|8.212       |false    |1163803.2        |2023-02-10 07:38:10|4    |8           |98         |14          |A   |203819|0.0     |(3,[0],[1.0])|[24.0,44.70000076293945,3.8949999809265137,NaN,NaN,NaN,NaN,NaN,134.1777801513672,8.211999893188477,0.0,203819.0,4.0,8.0,98.0,14.0,1163803.25,1.0,0.0,0.0]   |1333441.106924132 |\n",
      "|25   |2011-04-08|42.11      |3.72      |null     |null     |null     |null     |null     |208.10927|7.287       |false    |618377.8         |2023-02-10 07:38:10|4    |8           |98         |14          |B   |128107|1.0     |(3,[1],[1.0])|[25.0,42.11000061035156,3.7200000286102295,NaN,NaN,NaN,NaN,NaN,208.10926818847656,7.2870001792907715,0.0,128107.0,4.0,8.0,98.0,14.0,618377.8125,0.0,1.0,0.0]|658032.6070329724 |\n",
      "|26   |2011-04-08|29.09      |3.72      |null     |null     |null     |null     |null     |134.17778|7.818       |false    |849231.6         |2023-02-10 07:38:10|4    |8           |98         |14          |A   |152513|0.0     |(3,[0],[1.0])|[26.0,29.09000015258789,3.7200000286102295,NaN,NaN,NaN,NaN,NaN,134.1777801513672,7.817999839782715,0.0,152513.0,4.0,8.0,98.0,14.0,849231.625,1.0,0.0,0.0]   |902798.9004057964 |\n",
      "|27   |2011-04-08|46.87      |3.895     |null     |null     |null     |null     |null     |138.06389|7.725       |false    |1628868.2        |2023-02-10 07:38:10|4    |8           |98         |14          |A   |204184|0.0     |(3,[0],[1.0])|[27.0,46.869998931884766,3.8949999809265137,NaN,NaN,NaN,NaN,NaN,138.0638885498047,7.724999904632568,0.0,204184.0,4.0,8.0,98.0,14.0,1628868.25,1.0,0.0,0.0]  |1717155.0668414722|\n",
      "|28   |2011-04-08|64.47      |4.003     |null     |null     |null     |null     |null     |128.8238 |13.736      |false    |1336838.4        |2023-02-10 07:38:10|4    |8           |98         |14          |A   |206302|0.0     |(3,[0],[1.0])|[28.0,64.47000122070312,4.002999782562256,NaN,NaN,NaN,NaN,NaN,128.8238067626953,13.736000061035156,0.0,206302.0,4.0,8.0,98.0,14.0,1336838.375,1.0,0.0,0.0]  |1458158.908105614 |\n",
      "|29   |2011-04-08|44.42      |3.72      |null     |null     |null     |null     |null     |134.17778|9.966       |false    |475615.25        |2023-02-10 07:38:10|4    |8           |98         |14          |B   |93638 |1.0     |(3,[1],[1.0])|[29.0,44.41999816894531,3.7200000286102295,NaN,NaN,NaN,NaN,NaN,134.1777801513672,9.965999603271484,0.0,93638.0,4.0,8.0,98.0,14.0,475615.25,0.0,1.0,0.0]     |522896.72803511756|\n",
      "|30   |2011-04-08|68.62      |3.622     |null     |null     |null     |null     |null     |214.72522|7.931       |false    |437926.78        |2023-02-10 07:38:10|4    |8           |98         |14          |C   |42988 |2.0     |(3,[2],[1.0])|[30.0,68.62000274658203,3.621999979019165,NaN,NaN,NaN,NaN,NaN,214.7252197265625,7.931000232696533,0.0,42988.0,4.0,8.0,98.0,14.0,437926.78125,0.0,0.0,1.0]   |462168.0095043846 |\n",
      "|31   |2011-04-08|68.62      |3.622     |null     |null     |null     |null     |null     |214.72522|7.931       |false    |1344890.8        |2023-02-10 07:38:10|4    |8           |98         |14          |A   |203750|0.0     |(3,[0],[1.0])|[31.0,68.62000274658203,3.621999979019165,NaN,NaN,NaN,NaN,NaN,214.7252197265625,7.931000232696533,0.0,203750.0,4.0,8.0,98.0,14.0,1344890.75,1.0,0.0,0.0]    |1434874.9004248022|\n",
      "|32   |2011-04-08|48.81      |3.532     |null     |null     |null     |null     |null     |192.34186|8.595       |false    |1051121.0        |2023-02-10 07:38:10|4    |8           |98         |14          |A   |203007|0.0     |(3,[0],[1.0])|[32.0,48.810001373291016,3.5320000648498535,NaN,NaN,NaN,NaN,NaN,192.34185791015625,8.595000267028809,0.0,203007.0,4.0,8.0,98.0,14.0,1051121.0,1.0,0.0,0.0]  |1120254.368637228 |\n",
      "|33   |2011-04-08|75.11      |3.818     |null     |null     |null     |null     |null     |128.8238 |8.687       |false    |232769.1         |2023-02-10 07:38:10|4    |8           |98         |14          |A   |39690 |0.0     |(3,[0],[1.0])|[33.0,75.11000061035156,3.818000078201294,NaN,NaN,NaN,NaN,NaN,128.8238067626953,8.687000274658203,0.0,39690.0,4.0,8.0,98.0,14.0,232769.09375,1.0,0.0,0.0]   |295848.2202981065 |\n",
      "|34   |2011-04-08|58.59      |3.605     |null     |null     |null     |null     |null     |128.8238 |10.581      |false    |884233.7         |2023-02-10 07:38:10|4    |8           |98         |14          |A   |158114|0.0     |(3,[0],[1.0])|[34.0,58.59000015258789,3.6050000190734863,NaN,NaN,NaN,NaN,NaN,128.8238067626953,10.581000328063965,0.0,158114.0,4.0,8.0,98.0,14.0,884233.6875,1.0,0.0,0.0] |984075.7100520984 |\n",
      "|35   |2011-04-08|46.87      |3.72      |null     |null     |null     |null     |null     |138.06389|8.512       |false    |762620.94        |2023-02-10 07:38:10|4    |8           |98         |14          |B   |103681|1.0     |(3,[1],[1.0])|[35.0,46.869998931884766,3.7200000286102295,NaN,NaN,NaN,NaN,NaN,138.0638885498047,8.51200008392334,0.0,103681.0,4.0,8.0,98.0,14.0,762620.9375,0.0,1.0,0.0]  |817778.8990726821 |\n",
      "|36   |2011-04-08|69.39      |3.645     |null     |null     |null     |null     |null     |213.81166|8.3         |false    |385672.1         |2023-02-10 07:38:10|4    |8           |98         |14          |A   |39910 |0.0     |(3,[0],[1.0])|[36.0,69.38999938964844,3.6449999809265137,NaN,NaN,NaN,NaN,NaN,213.81166076660156,8.300000190734863,0.0,39910.0,4.0,8.0,98.0,14.0,385672.09375,1.0,0.0,0.0] |420136.3852506858 |\n",
      "|37   |2011-04-08|69.39      |3.622     |null     |null     |null     |null     |null     |213.81166|8.3         |false    |534578.75        |2023-02-10 07:38:10|4    |8           |98         |14          |C   |39910 |2.0     |(3,[2],[1.0])|[37.0,69.38999938964844,3.621999979019165,NaN,NaN,NaN,NaN,NaN,213.81166076660156,8.300000190734863,0.0,39910.0,4.0,8.0,98.0,14.0,534578.75,0.0,0.0,1.0]     |568011.6122078305 |\n",
      "|38   |2011-04-08|64.47      |4.003     |null     |null     |null     |null     |null     |128.8238 |13.736      |false    |382098.12        |2023-02-10 07:38:10|4    |8           |98         |14          |C   |39690 |2.0     |(3,[2],[1.0])|[38.0,64.47000122070312,4.002999782562256,NaN,NaN,NaN,NaN,NaN,128.8238067626953,13.736000061035156,0.0,39690.0,4.0,8.0,98.0,14.0,382098.125,0.0,0.0,1.0]    |446990.6786911105 |\n",
      "|39   |2011-04-08|69.45      |3.622     |null     |null     |null     |null     |null     |213.81166|8.3         |false    |1316849.4        |2023-02-10 07:38:10|4    |8           |98         |14          |A   |184109|0.0     |(3,[0],[1.0])|[39.0,69.44999694824219,3.621999979019165,NaN,NaN,NaN,NaN,NaN,213.81166076660156,8.300000190734863,0.0,184109.0,4.0,8.0,98.0,14.0,1316849.375,1.0,0.0,0.0]  |1431635.659539205 |\n",
      "|40   |2011-04-08|34.77      |3.72      |null     |null     |null     |null     |null     |134.17778|4.781       |false    |841889.06        |2023-02-10 07:38:10|4    |8           |98         |14          |A   |155083|0.0     |(3,[0],[1.0])|[40.0,34.77000045776367,3.7200000286102295,NaN,NaN,NaN,NaN,NaN,134.1777801513672,4.781000137329102,0.0,155083.0,4.0,8.0,98.0,14.0,841889.0625,1.0,0.0,0.0]  |899381.2183963647 |\n",
      "|41   |2011-04-08|42.87      |3.532     |null     |null     |null     |null     |null     |192.34186|6.934       |false    |1179125.5        |2023-02-10 07:38:10|4    |8           |98         |14          |A   |196321|0.0     |(3,[0],[1.0])|[41.0,42.869998931884766,3.5320000648498535,NaN,NaN,NaN,NaN,NaN,192.34185791015625,6.934000015258789,0.0,196321.0,4.0,8.0,98.0,14.0,1179125.5,1.0,0.0,0.0]  |1318768.0659043484|\n",
      "|42   |2011-04-08|73.03      |3.818     |null     |null     |null     |null     |null     |128.8238 |8.494       |false    |508432.2         |2023-02-10 07:38:10|4    |8           |98         |14          |C   |39690 |2.0     |(3,[2],[1.0])|[42.0,73.02999877929688,3.818000078201294,NaN,NaN,NaN,NaN,NaN,128.8238067626953,8.494000434875488,0.0,39690.0,4.0,8.0,98.0,14.0,508432.1875,0.0,0.0,1.0]    |522896.72803511756|\n",
      "|43   |2011-04-08|70.35      |3.622     |null     |null     |null     |null     |null     |206.897  |10.581      |false    |611585.56        |2023-02-10 07:38:10|4    |8           |98         |14          |C   |41062 |2.0     |(3,[2],[1.0])|[43.0,70.3499984741211,3.621999979019165,NaN,NaN,NaN,NaN,NaN,206.89700317382812,10.581000328063965,0.0,41062.0,4.0,8.0,98.0,14.0,611585.5625,0.0,0.0,1.0]   |655607.149576264  |\n",
      "|44   |2011-04-08|42.75      |3.547     |null     |null     |null     |null     |null     |128.8238 |6.906       |false    |281514.25        |2023-02-10 07:38:10|4    |8           |98         |14          |C   |39910 |2.0     |(3,[2],[1.0])|[44.0,42.75,3.546999931335449,NaN,NaN,NaN,NaN,NaN,128.8238067626953,6.906000137329102,0.0,39910.0,4.0,8.0,98.0,14.0,281514.25,0.0,0.0,1.0]                  |298865.3616530851 |\n",
      "|45   |2011-04-08|48.71      |3.72      |null     |null     |null     |null     |null     |185.36366|8.521       |false    |712425.75        |2023-02-10 07:38:10|4    |8           |98         |14          |B   |118221|1.0     |(3,[1],[1.0])|[45.0,48.709999084472656,3.7200000286102295,NaN,NaN,NaN,NaN,NaN,185.36366271972656,8.520999908447266,0.0,118221.0,4.0,8.0,98.0,14.0,712425.75,0.0,1.0,0.0]  |740313.0692886679 |\n",
      "+-----+----------+-----------+----------+---------+---------+---------+---------+---------+---------+------------+---------+-----------------+-------------------+-----+------------+-----------+------------+----+------+--------+-------------+------------------------------------------------------------------------------------------------------------------------------------------------------------+------------------+\n",
      "\n"
     ]
    }
   ],
   "source": [
    "# showing a microbatch on prediction \n",
    "query_prediction = predictionsGbt.writeStream.outputMode(\"Update\")\\\n",
    "        .foreachBatch(foreach_batch_function)\\\n",
    "        .trigger(processingTime='5 seconds')\\\n",
    "        .start()"
   ]
  },
  {
   "cell_type": "code",
   "execution_count": 29,
   "metadata": {},
   "outputs": [],
   "source": [
    "query_prediction.stop()"
   ]
  },
  {
   "cell_type": "markdown",
   "metadata": {},
   "source": [
    "### 2.9 write code to process the data following requirements\n"
   ]
  },
  {
   "cell_type": "code",
   "execution_count": 30,
   "metadata": {},
   "outputs": [],
   "source": [
    "# Creating 'Achieved_Goal' column based on 8.5 threshold value\n",
    "predictionsGbt = predictionsGbt. \\\n",
    "                        withColumn(\"Achieved_Goal\", \n",
    "                                   F.when((F.col('prediction')/F.col('Size'))>8.5, 1).otherwise(0))"
   ]
  },
  {
   "cell_type": "markdown",
   "metadata": {},
   "source": [
    "#### Medium, Apache Spark Structured Streaming — Operations (5 of 6), viewed from : https://medium.com/expedia-group-tech/apache-spark-structured-streaming-operations-5-of-6-40d907866fa7\n",
    "\n",
    "#### ProjectPro , https://www.projectpro.io/recipes/perform-window-operations-during-spark-structured-streaming\n",
    "\n",
    "#### Spark, Structured Programming Guide, https://spark.apache.org/docs/latest/structured-streaming-programming-guide.html"
   ]
  },
  {
   "cell_type": "code",
   "execution_count": 31,
   "metadata": {},
   "outputs": [],
   "source": [
    "#Step1: First line: withWatermark, setting old data dropout time\n",
    "#Step2 :Second and 3rd line: with window function, setting window size (10 seconds) on timestamp with sliding time (5 seconds)\n",
    "# step3 : 4th line : aggregating by counting achoeved goal\n",
    "# step 4 :5th line: dropping any null values\n",
    "\n",
    "df_sales = predictionsGbt.withWatermark(\"ts\", \"3 seconds\") \\\n",
    "                            .groupBy(F.window(F.col('ts'), \"10 seconds\", \n",
    "                                    \"5 seconds\"),F.col(\"Type\")) \\\n",
    "                            .agg(F.count(F.col('Achieved_Goal')==1).alias(\"Count\")) \\\n",
    "                            .na.drop(\"any\")"
   ]
  },
  {
   "cell_type": "code",
   "execution_count": 32,
   "metadata": {},
   "outputs": [
    {
     "name": "stdout",
     "output_type": "stream",
     "text": [
      "+------+----+-----+\n",
      "|window|Type|Count|\n",
      "+------+----+-----+\n",
      "+------+----+-----+\n",
      "\n",
      "+------------------------------------------+----+-----+\n",
      "|window                                    |Type|Count|\n",
      "+------------------------------------------+----+-----+\n",
      "|{2023-02-10 07:38:40, 2023-02-10 07:38:50}|B   |17   |\n",
      "|{2023-02-10 07:38:40, 2023-02-10 07:38:50}|C   |6    |\n",
      "|{2023-02-10 07:38:45, 2023-02-10 07:38:55}|B   |17   |\n",
      "|{2023-02-10 07:38:40, 2023-02-10 07:38:50}|A   |22   |\n",
      "|{2023-02-10 07:38:45, 2023-02-10 07:38:55}|C   |6    |\n",
      "|{2023-02-10 07:38:45, 2023-02-10 07:38:55}|A   |22   |\n",
      "+------------------------------------------+----+-----+\n",
      "\n",
      "+------+----+-----+\n",
      "|window|Type|Count|\n",
      "+------+----+-----+\n",
      "+------+----+-----+\n",
      "\n",
      "+------------------------------------------+----+-----+\n",
      "|window                                    |Type|Count|\n",
      "+------------------------------------------+----+-----+\n",
      "|{2023-02-10 07:38:50, 2023-02-10 07:39:00}|B   |17   |\n",
      "|{2023-02-10 07:38:45, 2023-02-10 07:38:55}|B   |34   |\n",
      "|{2023-02-10 07:38:50, 2023-02-10 07:39:00}|A   |22   |\n",
      "|{2023-02-10 07:38:45, 2023-02-10 07:38:55}|C   |12   |\n",
      "|{2023-02-10 07:38:45, 2023-02-10 07:38:55}|A   |44   |\n",
      "|{2023-02-10 07:38:50, 2023-02-10 07:39:00}|C   |6    |\n",
      "+------------------------------------------+----+-----+\n",
      "\n"
     ]
    }
   ],
   "source": [
    "# Showing a micro-batch of the count of stores that meet the threshold with window time\n",
    "sales_prediction = df_sales.writeStream.outputMode(\"Update\")\\\n",
    "        .foreachBatch(foreach_batch_function)\\\n",
    "        .trigger(processingTime='5 seconds')\\\n",
    "        .start()"
   ]
  },
  {
   "cell_type": "code",
   "execution_count": 33,
   "metadata": {},
   "outputs": [],
   "source": [
    "sales_prediction.stop()"
   ]
  },
  {
   "cell_type": "markdown",
   "metadata": {},
   "source": [
    "### 2.10 average weekly sales predictions of different types of stores and write the stream back to Kafka sink using a different topic name\n",
    "\n",
    "The data you sended should be like this:\n",
    "\n",
    "|  key   | value  |\n",
    "|  ----  | ----  |\n",
    "| timestamp of window start | JSON of store type and avg sales |\n",
    "| '1673233646'  | '{\"Type\":\"A\",\"predict_weekly_sales\":20000}' |"
   ]
  },
  {
   "cell_type": "code",
   "execution_count": 34,
   "metadata": {},
   "outputs": [],
   "source": [
    "# Creating average weekly sales column named as 'predict_weekly_sales'\n",
    "df_sales = predictionsGbt.withWatermark(\"ts\", \"3 seconds\") \\\n",
    "                         .groupBy(F.window(F.col('ts'), \"10 seconds\", \n",
    "                                    \"5 seconds\"),F.col(\"Type\")) \\\n",
    "                         .agg(F.round(F.mean(F.col('prediction')),2).alias(\"predict_weekly_sales\"))"
   ]
  },
  {
   "cell_type": "code",
   "execution_count": 35,
   "metadata": {},
   "outputs": [],
   "source": [
    "# taking of window start time and convert to unix timestamp, named as key\n",
    "df_sales = df_sales.withColumn('key',F.unix_timestamp(F.col(\"window.start\")))"
   ]
  },
  {
   "cell_type": "code",
   "execution_count": 45,
   "metadata": {},
   "outputs": [],
   "source": [
    "# converting Type and predict_weekly_sales as json format and named as value\n",
    "df_sales_final = df_sales.withColumn('value', \n",
    "                                    F.to_json(F.struct(\"key\",\"Type\", \"predict_weekly_sales\"))) \\\n",
    "                                    .select('key','value')"
   ]
  },
  {
   "cell_type": "code",
   "execution_count": 46,
   "metadata": {},
   "outputs": [],
   "source": [
    "# selecting only key and value column after converting to string\n",
    "df_sales_final = df_sales_final.select(\n",
    "                            F.col('key').cast('string').alias('key'),\n",
    "                            F.col('value').cast('string').alias('value'))"
   ]
  },
  {
   "cell_type": "code",
   "execution_count": 47,
   "metadata": {},
   "outputs": [
    {
     "name": "stdout",
     "output_type": "stream",
     "text": [
      "root\n",
      " |-- key: string (nullable = true)\n",
      " |-- value: string (nullable = true)\n",
      "\n"
     ]
    }
   ],
   "source": [
    "df_sales_final.printSchema()"
   ]
  },
  {
   "cell_type": "code",
   "execution_count": 54,
   "metadata": {},
   "outputs": [],
   "source": [
    "# Showing the json format value and key in memory sink\n",
    "prediction_query = df_sales_final \\\n",
    "    .writeStream \\\n",
    "    .outputMode(\"complete\") \\\n",
    "    .format(\"memory\") \\\n",
    "    .queryName(\"key_value\") \\\n",
    "    .trigger(processingTime='5 seconds') \\\n",
    "    .start()"
   ]
  },
  {
   "cell_type": "code",
   "execution_count": 55,
   "metadata": {},
   "outputs": [
    {
     "name": "stdout",
     "output_type": "stream",
     "text": [
      "+----------+---------------------------------------------------------------+\n",
      "|key       |value                                                          |\n",
      "+----------+---------------------------------------------------------------+\n",
      "|1676014975|{\"key\":1676014975,\"Type\":\"A\",\"predict_weekly_sales\":1338065.17}|\n",
      "|1676014980|{\"key\":1676014980,\"Type\":\"B\",\"predict_weekly_sales\":762763.68} |\n",
      "|1676014975|{\"key\":1676014975,\"Type\":\"B\",\"predict_weekly_sales\":762763.68} |\n",
      "|1676014980|{\"key\":1676014980,\"Type\":\"A\",\"predict_weekly_sales\":1338065.17}|\n",
      "|1676014980|{\"key\":1676014980,\"Type\":\"C\",\"predict_weekly_sales\":454720.22} |\n",
      "|1676014975|{\"key\":1676014975,\"Type\":\"C\",\"predict_weekly_sales\":454720.22} |\n",
      "+----------+---------------------------------------------------------------+\n",
      "\n"
     ]
    }
   ],
   "source": [
    "spark.sql(\"select * from key_value\").show(truncate=False)"
   ]
  },
  {
   "cell_type": "code",
   "execution_count": 56,
   "metadata": {},
   "outputs": [],
   "source": [
    "prediction_query.stop()"
   ]
  },
  {
   "cell_type": "code",
   "execution_count": 58,
   "metadata": {},
   "outputs": [],
   "source": [
    "#Step: \n",
    "#    - confirming key and value are in string\n",
    "#    - writin stream data in kafka sink using writeStream and format method correspondingly\n",
    "#    - Mentioning a topic name, here, topic1\n",
    "#    - Setting the checkpoint\n",
    "#    - Setting output mode as complete\n",
    "\n",
    "hostip = \"192.168.1.101\"\n",
    "ds = df_sales_final \\\n",
    "    .selectExpr(\"CAST(key AS STRING)\",\"CAST(value AS STRING)\") \\\n",
    "    .writeStream \\\n",
    "    .format(\"kafka\") \\\n",
    "    .option(\"kafka.bootstrap.servers\", f'{hostip}:9092') \\\n",
    "    .option(\"topic\", \"topic1\") \\\n",
    "    .option(\"checkpointLocation\", \"checkpoint\") \\\n",
    "    .option(\"truncate\", False) \\\n",
    "    .outputMode(\"Complete\").start()"
   ]
  },
  {
   "cell_type": "code",
   "execution_count": 53,
   "metadata": {},
   "outputs": [],
   "source": [
    "ds.stop()"
   ]
  },
  {
   "cell_type": "markdown",
   "metadata": {},
   "source": [
    "\n",
    "##### For cleaning up the quries and files"
   ]
  },
  {
   "cell_type": "code",
   "execution_count": 53,
   "metadata": {},
   "outputs": [],
   "source": [
    "# queries are cleaned right after making the queries."
   ]
  },
  {
   "cell_type": "code",
   "execution_count": null,
   "metadata": {},
   "outputs": [],
   "source": []
  }
 ],
 "metadata": {
  "kernelspec": {
   "display_name": "Python 3 (ipykernel)",
   "language": "python",
   "name": "python3"
  },
  "language_info": {
   "codemirror_mode": {
    "name": "ipython",
    "version": 3
   },
   "file_extension": ".py",
   "mimetype": "text/x-python",
   "name": "python",
   "nbconvert_exporter": "python",
   "pygments_lexer": "ipython3",
   "version": "3.8.12"
  },
  "toc": {
   "base_numbering": 1,
   "nav_menu": {},
   "number_sections": true,
   "sideBar": true,
   "skip_h1_title": false,
   "title_cell": "Table of Contents",
   "title_sidebar": "Contents",
   "toc_cell": false,
   "toc_position": {},
   "toc_section_display": true,
   "toc_window_display": false
  }
 },
 "nbformat": 4,
 "nbformat_minor": 4
}
